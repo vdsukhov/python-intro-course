{
 "cells": [
  {
   "cell_type": "markdown",
   "id": "fe58ec07",
   "metadata": {},
   "source": [
    "# Variables and Data Types\n",
    "\n",
    "<!-- ```{image} ./pics/variables_and_data_types_box.png\n",
    ":width: 560px\n",
    ":align: center\n",
    "``` -->\n",
    "\n",
    "In the world of programming, our focus is on understanding things through a computer's eyes, like looking at objects in a special way. To make this happen, we need to pick out the most crucial details about these objects that will help us answer our questions. This is where the magic of Python comes in. Python is like a toolkit full of different kinds of containers. Some containers are like boxes for holding whole numbers, others are for numbers with decimal points, and some are for words and sentences. These containers help us gather and sort the important details about objects, and each type of container is designed to hold a different kind of detail. So, if we're trying to understand things in the world using Python, we use these containers to hold the important bits of information, like the numbers and words that matter most for the questions we want to answer.\n",
    "\n",
    "<video autoplay loop playsinline controls muted>\n",
    "    <source src=\"../_static/videos/feature_extraction_from_car.mp4\" type=\"video/mp4\">\n",
    "</video>\n",
    "\n",
    "\n",
    "## Numbers\n",
    "We can use numbers in Python in obvious way. To demonstrate this, we will use the `print` function to output some examples. Simply specify a number and print it to the standard output."
   ]
  },
  {
   "cell_type": "code",
   "execution_count": null,
   "id": "e9c2ba17-e8de-49df-8b5e-e16055e2bef8",
   "metadata": {
    "tags": [
     "hide-output"
    ]
   },
   "outputs": [],
   "source": [
    "print(42)"
   ]
  },
  {
   "cell_type": "markdown",
   "id": "cf5861a7",
   "metadata": {},
   "source": [
    "This is an example of an integer number. In Python, integer numbers have the type `int`. Numbers with a fractional part (e.g. `42.3`, `1.0`) have the type `float`. You can always get the type of an object in Python by using the `type` function. Let's check out a couple of examples:"
   ]
  },
  {
   "cell_type": "code",
   "execution_count": null,
   "id": "89f5df04",
   "metadata": {
    "tags": [
     "hide-output"
    ]
   },
   "outputs": [],
   "source": [
    "print(type(42))\n",
    "print(type(42.3))"
   ]
  },
  {
   "cell_type": "markdown",
   "id": "fa96668b",
   "metadata": {},
   "source": [
    "We can perform various operations with numbers (both for `int` and `float` types), which will work as expected from a mathematical point of view:\n",
    "````{margin}\n",
    "```{note}\n",
    "Almost always as expected, however you should try to execute the following code: `print(0.3 + 0.3 + 0.3)`\n",
    "```\n",
    "````\n",
    "\n",
    "- `+` - addition\n",
    "- `-` - difference\n",
    "- `*` - multiplication\n",
    "- `/` - division\n",
    "- `//` - integer division (rounds down for both positive and negative numbers)\n",
    "- `%` - modulo operation\n",
    "- `**` - exponentiation\n",
    "- `()` - we can enforce order of operations with parentheses\n",
    "\n",
    "Now let's look usage examples:"
   ]
  },
  {
   "cell_type": "code",
   "execution_count": null,
   "id": "b71dd481",
   "metadata": {
    "tags": [
     "hide-output"
    ]
   },
   "outputs": [],
   "source": [
    "print(3 + 5)\n",
    "print(8 - 3)\n",
    "print(3 * 5)\n",
    "print(8 / 3)\n",
    "print(8 // 3)\n",
    "print(8 % 5)\n",
    "print(3**5)\n",
    "print((3 + 5) * 8)"
   ]
  },
  {
   "cell_type": "markdown",
   "id": "ac5f5887",
   "metadata": {},
   "source": [
    "## Strings\n",
    "We already saw the first example of strings in python in our first program: `\"I'm Python. Nice to meet you!\"`.\n",
    "Strings are used in python to handle and operate with texts.\n",
    "There are couple different ways how you can specify string in python:\n",
    "- `'content'` - single quotes\n",
    "- `\"content\"` - double quotes\n",
    "- `\"\"\"content\"\"\"` or `'''content'''` - triple quotes (used for multiline strings)\n",
    "\n",
    "Examples:"
   ]
  },
  {
   "cell_type": "code",
   "execution_count": null,
   "id": "a35e9fb7",
   "metadata": {
    "tags": [
     "hide-output"
    ]
   },
   "outputs": [],
   "source": [
    "print(\"Line\")\n",
    "print('Also line')\n",
    "print(\"\"\"First Line\n",
    "Second Line\n",
    "Third Line\"\"\")"
   ]
  },
  {
   "cell_type": "markdown",
   "id": "e3944f7e",
   "metadata": {},
   "source": [
    "If you need to use `'` or `\"` inside of your string there are examples how to do it:"
   ]
  },
  {
   "cell_type": "code",
   "execution_count": null,
   "id": "7d212fdf",
   "metadata": {
    "tags": [
     "hide-output"
    ]
   },
   "outputs": [],
   "source": [
    "print(\"I'm a human\")\n",
    "print('I\\'m a human') # Here we use enclosing for `'` symbol\n",
    "print('I am a \"human\"') \n",
    "print(\"I am a \\\"human\\\"\") "
   ]
  },
  {
   "cell_type": "markdown",
   "id": "43c31538",
   "metadata": {},
   "source": [
    "I would recommend use enclosing (`\\'` and `\\\"`).\n",
    "\n",
    "### Operations on strings\n",
    "- **Concatenation**.\n",
    "We can merge strings into one by using the `+` operator or by simply putting them one after the other.\n",
    "Here are some examples:"
   ]
  },
  {
   "cell_type": "code",
   "execution_count": null,
   "id": "8f7ff006",
   "metadata": {
    "tags": [
     "hide-output"
    ]
   },
   "outputs": [],
   "source": [
    "print(\"Hello\" \" World!\")\n",
    "print(\"Hello\" + \" World!\")"
   ]
  },
  {
   "cell_type": "markdown",
   "id": "e5c01317",
   "metadata": {},
   "source": [
    "- **String repeation**.\n",
    "If you need to repeat a string, you can use the  operator, followed by the desired number of repeats. Here is an example:"
   ]
  },
  {
   "cell_type": "code",
   "execution_count": null,
   "id": "ea4f7b5e",
   "metadata": {
    "tags": [
     "hide-output"
    ]
   },
   "outputs": [],
   "source": [
    "print(\"You talking to me? \" * 3)"
   ]
  },
  {
   "cell_type": "markdown",
   "id": "b8f2c491",
   "metadata": {},
   "source": [
    "These are exaples of basic string operations further in the course we will see some other things that we could do with strings.\n",
    "## Logical data type\n",
    "\n",
    "<video autoplay loop playsinline controls muted>\n",
    "    <source src=\"../_static/videos/red_and_blue_pills.mp4\" type=\"video/mp4\">\n",
    "</video>\n",
    "\n",
    "In programming, we often encounter situations that demand binary decision.\n",
    "When I think about it I always recall the moment from \"Matrix\" movie where there is the Neo making decision between red and blue pills.\n",
    "Logical data types serve as the digital manifestation of this choice.\n",
    "To manipulate between with different decisions python has `bool` data type with two objects `True` and `False`.\n",
    "They enable us to represent two distinct possibilities: true or false.\n",
    "\n",
    "This data type will assist us in making decisions within our programs. There will be situations where we need to execute one part of the code if certain statements are true, and another part if they are false.\n",
    "\n",
    "### Logical operators\n",
    "\n",
    "For now, let's review some basic logical operations:\n",
    "- `and` - logical and\n",
    "- `or` - logical or\n",
    "- `not` - logical not"
   ]
  },
  {
   "cell_type": "code",
   "execution_count": null,
   "id": "a09d86a5",
   "metadata": {
    "tags": [
     "hide-output"
    ]
   },
   "outputs": [],
   "source": [
    "# and\n",
    "print(\"True and True:\", True and True)\n",
    "print(\"True and False:\", True and False)\n",
    "print(\"False and True:\", False and True)\n",
    "print(\"False and False:\", False and False)\n",
    "\n",
    "# or\n",
    "print(\"True or True:\", True or True)\n",
    "print(\"True or False:\", True or False)\n",
    "print(\"False or True:\", False or True)\n",
    "print(\"False or False:\", False or False)\n",
    "\n",
    "# not\n",
    "print(\"not True:\", not True)\n",
    "print(\"not False:\", not False)"
   ]
  },
  {
   "cell_type": "markdown",
   "id": "aa96e1a4",
   "metadata": {},
   "source": [
    "```{tip}\n",
    ":class: dropdown\n",
    "Possible examples of the logic for `and` and `or`:\n",
    "1. Let's say someone wants to be a bioinformatician. When can we actually call them a bioinformatician? To me, it's when they understand biology and computer science. We call someone a bioinformatician only when both of these things are true at the same time. This is possible example of `and` operator logic.\n",
    "2. Imagine you want to choose a movie to watch, but it must meet certain criteria: it must be either a drama OR a comedy. If the movie doesn't fit into either of these categories, then we won't consider watching it. In all other cases, we can watch it. This is an example of the logic for the `or` operator.\n",
    "```\n",
    "\n",
    "### Comparison operators\n",
    "You can get `bool` data type as result after performing comparison of other objects.\n",
    "Here is the list of comparison operators:\n",
    "- `==` - equal\n",
    "- `!=` - no equal\n",
    "- `>` - greater than\n",
    "- `<` - less than\n",
    "- `>=` - greater than or equal to\n",
    "- `<=` - less than or equal to\n",
    "\n",
    "Let's take a look on couple examples:"
   ]
  },
  {
   "cell_type": "code",
   "execution_count": null,
   "id": "ba22c475",
   "metadata": {
    "tags": [
     "hide-output"
    ]
   },
   "outputs": [],
   "source": [
    "print(1 == 0)\n",
    "print(1 != 0)\n",
    "print(1 > 0)\n",
    "print(1 <= 0)\n",
    "\n",
    "# it is possible to compare strings as well\n",
    "print(\"Hello\" == \"Hello\")\n",
    "print(\"alpha\" <= \"beta\")"
   ]
  },
  {
   "cell_type": "markdown",
   "id": "0f7eb453",
   "metadata": {},
   "source": [
    "```{note}\n",
    ":class: dropdown\n",
    "In my opinion, the section about comparison operators is highly important. While it is obvious when dealing with real numbers, there will be times when you need to compare other types of objects, such as genes for example. In such cases, it is important to find a way to map your object to real numbers to make comparison possible. For instance, when comparing genes, you may need to consider the number of nucleotides that make them up, or the value expression, depending on the task at hand.\n",
    "```\n",
    "\n",
    "## Precedence of Operators\n",
    "Okay, we have looked at some operations separately. In reality, we often need to combine them in a more complex way. To do this, we need to remember the precedence of operators. The following table summarizes the operator precedence from highest to lowest:\n",
    "````{card}\n",
    "```{list-table} Precedence of Operators\n",
    ":header-rows: 1\n",
    ":name: precedence-of-operators\n",
    "\n",
    "* - Level\n",
    "  - Operators\n",
    "* - 7 (high)\n",
    "  - `**`\n",
    "* - 6\n",
    "  - `*` `/` `//` `%`\n",
    "* - 5\n",
    "  - `+` `-`\n",
    "* - 4\n",
    "  - `==` `!=` `<=` `>=` `>` `<`\n",
    "* - 3\n",
    "  - `not`\n",
    "* - 2\n",
    "  - `and`\n",
    "* - 1 (low)\n",
    "  - `or`\n",
    "```\n",
    "````\n",
    "As usual you can enforce order of operations with parentheses `()`.\n",
    "\n",
    "## Variables\n",
    "Okay, so far we have learned how to create objects in Python and print them immediately. However, we usually want to store objects and reuse them in our code. To do this, we use variables in Python. We can create a specific name and assign it to a specific object in Python. Here is an example:"
   ]
  },
  {
   "cell_type": "code",
   "execution_count": null,
   "id": "cf2c18fe",
   "metadata": {
    "tags": [
     "hide-output"
    ]
   },
   "outputs": [],
   "source": [
    "name = \"Vladimir\"\n",
    "print(\"Hello \" + name)\n",
    "print(name + \", how are you today?\")"
   ]
  },
  {
   "cell_type": "markdown",
   "id": "88e70e02",
   "metadata": {},
   "source": [
    "```{note}\n",
    "In programming, the concept of variables is very important because it allows for the reuse of specific parts of code. Throughout our course, we will also cover other concepts that enable code reuse.\n",
    "Code reuse refers to the practice of writing code in a way that it can be used in multiple parts of a program or even in different programs. This promotes efficiency, reduces redundancy, and simplifies maintenance and debugging.\n",
    "We will also cover functions and packages, which demonstrate the beauty of code reuse further along in the course.\n",
    "```\n",
    "\n",
    "A commonly used analogy for variables is to think of them as named boxes where we can store our objects. \n",
    "In the example above, we can think that we have a box named `name` that contains the string `\"Vladimir\"`.\n",
    "\n",
    "Some other examples of possible operations over variables:"
   ]
  },
  {
   "cell_type": "code",
   "execution_count": null,
   "id": "84c5c97f",
   "metadata": {
    "tags": [
     "hide-output"
    ]
   },
   "outputs": [],
   "source": [
    "value_1 = 101\n",
    "value_2 = 42\n",
    "\n",
    "print(value_1 + value_2)\n",
    "value_1 = 0 # we can assign a new value to a variable\n",
    "print(value_1)"
   ]
  },
  {
   "cell_type": "markdown",
   "id": "0d91bb0d",
   "metadata": {},
   "source": [
    "In case you need to assign multiple variables at once you can use the following syntax:"
   ]
  },
  {
   "cell_type": "code",
   "execution_count": null,
   "id": "bde33d57",
   "metadata": {
    "tags": [
     "hide-output"
    ]
   },
   "outputs": [],
   "source": [
    "x, y, z = \"User\", 1, True\n",
    "print(x, y, z)"
   ]
  },
  {
   "cell_type": "markdown",
   "id": "da9c02c8",
   "metadata": {},
   "source": [
    "In Python, it is very easy to swap the values of two variables. While other programming languages often require an additional variable to accomplish this task, Python makes it much simpler:"
   ]
  },
  {
   "cell_type": "code",
   "execution_count": null,
   "id": "f4e9d430",
   "metadata": {
    "tags": [
     "hide-output"
    ]
   },
   "outputs": [],
   "source": [
    "x, y = 1, 2\n",
    "print(\"x and y before swap:\", x, y)\n",
    "x, y = y, x\n",
    "print(\"x and y after swap:\", x, y)"
   ]
  },
  {
   "cell_type": "markdown",
   "id": "b03491e7",
   "metadata": {},
   "source": [
    "### Rules for Python variables\n",
    "- A variable name must start with a letter or the underscore character\n",
    "- A variable name cannot start with a number\n",
    "- A variable name can only contain alpha-numeric characters and underscores (A-z, 0-9, and _ )\n",
    "- Variable names are case-sensitive (age, Age and AGE are three different variables)\n",
    "- A variable name cannot be any of the [Python keywords](https://www.w3schools.com/python/python_ref_keywords.asp).\n",
    "\n",
    "\n",
    "## Type Conversion\n",
    "\n",
    "<video autoplay loop playsinline controls muted>\n",
    "    <source src=\"../_static/videos/type_conversion.mp4\" type=\"video/mp4\">\n",
    "</video>\n",
    "\n",
    "Sometimes, you need to change the way a computer understands data. \n",
    "Imagine you have two pieces of text, `\"4\"` and `\"2\"` and you want to put them together like words. You can do this with a plus `+` operator, like `\"4\" + \"2\"` which makes `\"42\"`.\n",
    "\n",
    "But what if you want the computer to treat these like numbers instead of just text? \n",
    "That's when Python Type Conversions come to the rescue. \n",
    "Let's look at some everyday examples of how to do this.\n",
    "\n",
    "### `int` to `float`\n",
    "\n",
    "You can convert an integer to a floating-point number using the `float()` function. For example:"
   ]
  },
  {
   "cell_type": "code",
   "execution_count": null,
   "id": "7ebe401e",
   "metadata": {
    "tags": [
     "hide-output"
    ]
   },
   "outputs": [],
   "source": [
    "integer_num = 5\n",
    "print(integer_num)\n",
    "float_num = float(integer_num)\n",
    "print(float_num)"
   ]
  },
  {
   "cell_type": "markdown",
   "id": "6b8478b1",
   "metadata": {},
   "source": [
    "### `float` to `int`\n",
    "To convert a floating-point number to an integer, you can use the `int()` function. Be aware that this truncates the decimal part, not rounding. For example:"
   ]
  },
  {
   "cell_type": "code",
   "execution_count": null,
   "id": "a0657c2e",
   "metadata": {
    "tags": [
     "hide-output"
    ]
   },
   "outputs": [],
   "source": [
    "float_num = 3.14\n",
    "print(\"float_num =\", float_num)\n",
    "integer_num = int(float_num)  # int_num will be 3\n",
    "print(\"int_num =\", integer_num)"
   ]
  },
  {
   "cell_type": "markdown",
   "id": "8dc5fa68",
   "metadata": {},
   "source": [
    "### `str` to `int` or `float`\n",
    "You can convert a string containing a numeric value to an integer or float using `int()` or `float()`. For example:"
   ]
  },
  {
   "cell_type": "code",
   "execution_count": null,
   "id": "e1631710",
   "metadata": {
    "tags": [
     "hide-output"
    ]
   },
   "outputs": [],
   "source": [
    "num_str = \"42\"\n",
    "int_num = int(num_str)\n",
    "float_num = float(num_str)\n",
    "print(\"int_num =\", int_num)\n",
    "print(\"float_num =\", float_num)"
   ]
  },
  {
   "cell_type": "markdown",
   "id": "3e3058fd",
   "metadata": {},
   "source": [
    "But if your string doesn't represent number then you will get an error if you try to convert it to numerical data type:\n",
    "\n",
    "```python3\n",
    "line = \"xyz\"\n",
    "int_num = int(line)\n",
    "float_num = float(line)\n",
    "print(\"int_num =\", int_num)\n",
    "print(\"float_num =\", float_num)\n",
    "```\n",
    "You shoud get the following error:\n",
    "```\n",
    "ValueError: invalid literal for int() with base 10: 'xyz'\n",
    "```\n",
    "\n",
    "### `int` or `float` to `str`\n",
    "To convert an integer or float object to a string, you can use the `str()` function. For example:"
   ]
  },
  {
   "cell_type": "code",
   "execution_count": null,
   "id": "8ff3f82f",
   "metadata": {
    "tags": [
     "hide-output"
    ]
   },
   "outputs": [],
   "source": [
    "int_num = 42\n",
    "float_num = 3.1415\n",
    "str_int = str(int_num)\n",
    "str_float = str(float_num)\n",
    "print(\"type(str_int):\", type(str_int), \" str_int = \", str_int)\n",
    "print(\"type(str_float):\", type(str_float), \" str_float = \", str_float)"
   ]
  },
  {
   "cell_type": "markdown",
   "id": "0ff50e83",
   "metadata": {},
   "source": [
    "### `bool` Truthy and Falsy values\n",
    "To change an object into a logical data type, you can use the `bool()` function. Here's a simple rule for how this conversion works:\n",
    "\n",
    "- If you have `0`, `0.0`, or an empty text `\"\"`, they turn into `False`.\n",
    "- For all other values, they become `True`.\n",
    "\n",
    "This rule helps you understand how different values are seen by the computer in a true or false way.\n",
    "Examples:"
   ]
  },
  {
   "cell_type": "code",
   "execution_count": null,
   "id": "2326b47d",
   "metadata": {
    "tags": [
     "hide-output"
    ]
   },
   "outputs": [],
   "source": [
    "print(bool(0), bool(0.0), bool(\"\"))\n",
    "print(bool(101), bool(-10), bool(\"ABC\"))"
   ]
  },
  {
   "cell_type": "markdown",
   "id": "8e51a88d",
   "metadata": {},
   "source": [
    "When certain values act like they are `True` in a computer's eyes, we call them **Truthy**. \n",
    "Similarly, when values act like they are `False` we call them **Falsy**. \n",
    "Understanding these concepts is important when dealing with conditions and decisions in programming."
   ]
  }
 ],
 "metadata": {
  "jupytext": {
   "formats": "ipynb,md:myst"
  },
  "kernelspec": {
   "display_name": "Python 3 (ipykernel)",
   "language": "python",
   "name": "python3"
  },
  "language_info": {
   "codemirror_mode": {
    "name": "ipython",
    "version": 3
   },
   "file_extension": ".py",
   "mimetype": "text/x-python",
   "name": "python",
   "nbconvert_exporter": "python",
   "pygments_lexer": "ipython3",
   "version": "3.12.4"
  }
 },
 "nbformat": 4,
 "nbformat_minor": 5
}
