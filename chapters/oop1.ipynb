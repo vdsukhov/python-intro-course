{
 "cells": [
  {
   "cell_type": "markdown",
   "id": "ae5f1f38",
   "metadata": {},
   "source": [
    "# Object-Oriented Programming: Classes\n",
    "\n",
    "In this episode we will take a look at Object-Oriented Programming (OOP) in Python! \n",
    "Object-oriented programming is a powerful paradigm that allows you to structure your code in a way that reflects the real-world entities and their interactions. \n",
    "In Python, OOP is a fundamental aspect of the language, providing a robust and flexible approach to designing and organizing code.\n",
    "\n",
    "However before we will start learning OOP I want to cover some aspects of Namespaces and Scopes in Python.\n",
    "\n",
    "## Namespace and Scopes\n",
    "\n",
    "### Namespace\n",
    "\n",
    "Earlier in our discussions about variables in Python, we established that a variable essentially acts as a link to an object in the computer's memory. Visualizing this relationship, we can group variables and their corresponding objects into pairs, creating a structured mapping.\n",
    "\n",
    "```python\n",
    "namespace = {\"obj1\": obj1, \"obj2\": obj2, ...}\n",
    "```\n",
    "\n",
    "This simply is a namespace in Python. So in Python, namespace act as dynamic containers, responsible for establishing a mapping between names and objects. Think of a namespace as an intelligent dictionary, where names are keys, and objects are values. This dynamic mapping allows Python to efficiently manage and organize the various elements within your program.\n",
    "For next code snippet:\n",
    "\n",
    "```python\n",
    "# Variable \"x\" pointing to an object in memory\n",
    "x = [1, 2, 3]\n",
    "```\n",
    "we could say that namespace mapping is `{\"x\": [1, 2, 3]}`.\n",
    "\n",
    "In Python, we like to keep things organized. So, the `print` function and our variable `x` don't share the same space. \n",
    "Why? Well, Python has different areas, called \"scopes\", and each of them has its own place to store names and their stuff. \n",
    "It's like having separate rooms for different things. Now, let's explore these scopes in Python.\n",
    "\n",
    "### Scopes\n",
    "\n",
    "#### Local scope\n",
    "**Local scope** refers to the part of your code, usually within a function or method, where variables have local significance. Each function call creates its own local namespace.\n",
    "\n",
    "When a function is called, a local namespace is created, acting as a container for variables within that function. This namespace is isolated from the global namespace."
   ]
  },
  {
   "cell_type": "code",
   "execution_count": null,
   "id": "0b835648-08d6-4649-a145-7eb53a555d47",
   "metadata": {},
   "outputs": [],
   "source": [
    "def local_scope_example():\n",
    "    local_variable = \"I am local\"\n",
    "    print(local_variable)\n",
    "\n",
    "local_scope_example()\n",
    "# This line would raise an error as local_variable is not accessible here.\n",
    "# print(local_variable)"
   ]
  },
  {
   "cell_type": "markdown",
   "id": "cccb2db6",
   "metadata": {},
   "source": [
    "#### Enclosing scope\n",
    "\n",
    "**Enclosed scope**. This scope occur when functions are defined within other functions. Each function has its own local namespace, and it can access variables from its own namespace as well as those from the enclosing scopes.\n",
    "\n",
    "In the example below, `inner_function` has access to both its local namespace and the namespace of `outer_function`."
   ]
  },
  {
   "cell_type": "code",
   "execution_count": null,
   "id": "66e7c517",
   "metadata": {},
   "outputs": [],
   "source": [
    "def outer_function():\n",
    "    outer_variable = \"I am in the outer function\"\n",
    "\n",
    "    def inner_function():\n",
    "        inner_variable = \"I am in the inner function\"\n",
    "        print(outer_variable)\n",
    "        print(inner_variable)\n",
    "\n",
    "    inner_function()\n",
    "\n",
    "outer_function()"
   ]
  },
  {
   "cell_type": "markdown",
   "id": "8bc32be4",
   "metadata": {},
   "source": [
    "#### Global scope\n",
    "\n",
    "**Global scope** encompasses the entire Python script or module. Variables in the global scope are accessible from any part of the code.\n",
    "\n",
    "Variables defined outside any function or method belong to the global namespace. They persist throughout the program."
   ]
  },
  {
   "cell_type": "code",
   "execution_count": null,
   "id": "ea6a4abc",
   "metadata": {},
   "outputs": [],
   "source": [
    "global_variable = \"I am global\"\n",
    "\n",
    "def global_scope_example():\n",
    "    print(global_variable)\n",
    "\n",
    "global_scope_example()\n",
    "print(global_variable)"
   ]
  },
  {
   "cell_type": "markdown",
   "id": "05430ccd",
   "metadata": {},
   "source": [
    "#### Built-in scope\n",
    "\n",
    "The **built-in scope** is encompassing all reserved keywords. They can be readily accessed anywhere in the program without requiring explicit definition before usage.\n",
    "For example built-in scope contain such names as `print`, `len`, `sum`, etc.\n",
    "\n",
    "\n",
    "### LEGB Rule and Namespace Search Order\n",
    "\n",
    "\n",
    "```{image} ./pics/scopes.jpg\n",
    ":align: center\n",
    "```\n",
    "\n",
    "The LEGB rule (Local, Enclosing, Global, Built-in) determines the order in which Python searches for a variable.\n",
    "\n",
    "When a variable is referenced, Python searches for it in the following order:\n",
    "1. Local (L): Inside the current function's local namespace.\n",
    "2. Enclosing (E): In the local scopes of any enclosing functions (for nested functions).\n",
    "3. Global (G): In the global namespace.\n",
    "4. Built-in (B): In the built-in namespace where Python's predefined names reside.\n",
    "\n",
    "\n",
    "```{note}\n",
    "When I think about namespaces and scopes, I picture it like looking for things in different rooms. Imagine your current room as your \"local scope.\" If you're trying to find something (an object), you'd check your current room first. If it's not there, you might check another room nearby (enclosing room), and so on. It's like a step-by-step search through rooms until you find what you're looking for!\n",
    "```\n",
    "\n",
    "<video autoplay loop playsinline controls muted>\n",
    "    <source src=\"../_static/videos/scopes_analogy.mp4\" type=\"video/mp4\">\n",
    "</video>\n",
    "\n",
    "### Interaction with namespaces\n",
    "\n",
    "You can check namespaces using the `globals()`, `locals()` and `dir()` functions.\n",
    "Let's explore each of them.\n",
    "\n",
    "\n",
    "\n",
    "`globals()` function returns a dictionary representing the global namespace. \n",
    "When called within a function or at the module level, it provides access to the global namespace, allowing you to inspect or modify global variables."
   ]
  },
  {
   "cell_type": "code",
   "execution_count": null,
   "id": "7fd65c2c",
   "metadata": {
    "tags": [
     "hide-output"
    ]
   },
   "outputs": [],
   "source": [
    "global_variable = \"I am global\"\n",
    "\n",
    "def check_globals():\n",
    "    print(globals())\n",
    "\n",
    "check_globals()"
   ]
  },
  {
   "cell_type": "markdown",
   "id": "9b7cbe14",
   "metadata": {},
   "source": [
    "`locals()` returns a dictionary representing the local namepsace.\n",
    "When called within a function, it provides access to the local namespace of that function, allowing you to inspect or modify local variables."
   ]
  },
  {
   "cell_type": "code",
   "execution_count": null,
   "id": "6acdfc38",
   "metadata": {
    "tags": [
     "hide-output"
    ]
   },
   "outputs": [],
   "source": [
    "def check_locals():\n",
    "    local_variable = \"I am local\"\n",
    "    print(locals())\n",
    "\n",
    "check_locals()"
   ]
  },
  {
   "cell_type": "markdown",
   "id": "c9a53699",
   "metadata": {},
   "source": [
    "`dir` function returns a list of names in the current scope or a list of attributes of an object if an object is provided.\n",
    "It's a versatile function. When used without arguments, it shows the names in the current scope. When used with an object as an argument, it lists the attributes of that object.\n",
    "\n",
    "```python\n",
    "print(dir())\n",
    "```\n",
    "\n",
    "\n",
    "## Classes\n",
    "\n",
    "Let's create a simple class for a `Car` in Python. A class is a blueprint for creating objects, and it encapsulates both data (attributes) and behavior (methods) related to the object. In this case, we'll define a `Car` class with some basic attributes and methods.\n",
    "\n",
    "We will use the following attributes to describe our class:\n",
    "- `brand` - simply car brand \n",
    "- `model` - the model\n",
    "- `year` - the year when car was assembled\n",
    "- `color` - color of the car\n",
    "- `fuel` - the current fuel level\n",
    "-  `odometer` - the distance traveled by a vehicle\n",
    "-  `doors_locked` - current doors status (i.e. locked or unloced)"
   ]
  },
  {
   "cell_type": "code",
   "execution_count": null,
   "id": "e0373cee",
   "metadata": {
    "tags": [
     "hide-output"
    ]
   },
   "outputs": [],
   "source": [
    "class Car:\n",
    "    def __init__(self, brand, model, year, color, fuel=100, odometer=0, doors_locked=True):\n",
    "        self.brand = brand\n",
    "        self.model = model\n",
    "        self.year = year\n",
    "        self.color = color\n",
    "        self.fuel = fuel\n",
    "        self.odometer = odometer\n",
    "        self.doors_locked = doors_locked"
   ]
  },
  {
   "cell_type": "markdown",
   "id": "11106771",
   "metadata": {},
   "source": [
    "Here we defined our blueprint for objects using the `class` keyword. \n",
    "Think of a class as a template that outlines the structure and behavior of our objects.\n",
    "Inside our class, we currently have one special method called `__init__`. \n",
    "This method is like a constructor and is used to create new instances (objects) of our class. It initializes the attributes of the object when it is first created.\n",
    "\n",
    "Now, let's put our class to use by creating a couple of objects. These objects will be unique instances of the Car class, each with its own set of attributes."
   ]
  },
  {
   "cell_type": "code",
   "execution_count": null,
   "id": "f72ea2c4",
   "metadata": {
    "tags": [
     "hide-output"
    ]
   },
   "outputs": [],
   "source": [
    "camry = Car(brand=\"Toyota\", model=\"Camry\", year=2023, color=\"red\")\n",
    "tesla_x = Car(brand=\"Tesla\", model=\"X\", year=2023, color=\"black\")"
   ]
  },
  {
   "cell_type": "markdown",
   "id": "c8cde5c5",
   "metadata": {},
   "source": [
    "After specifying our objects, we can access their attributes by using a dot after the variable name and specifying the attribute name:"
   ]
  },
  {
   "cell_type": "code",
   "execution_count": null,
   "id": "cc20b0f7",
   "metadata": {
    "tags": [
     "hide-output"
    ]
   },
   "outputs": [],
   "source": [
    "print(\"camry fuel level:\", camry.fuel)"
   ]
  },
  {
   "cell_type": "markdown",
   "id": "3d12b864",
   "metadata": {},
   "source": [
    "### `__init__` method\n",
    "\n",
    "In Python, when we create a class, we use a special method called `__init__` to set up the initial state of the object.\n",
    "This method is like a guidebook for creating new objects based on the class.\n",
    "\n",
    "Now, here's the trick: when we define methods inside a class, we need a way to refer to object itslef.\n",
    "That's where `self` comes in!\n",
    "\n",
    "* What is `self`?\n",
    "    * `self` is a convention (a tradition, you could say) in Python. It is like a placeholder that refers to the instance of the object that we are working with.\n",
    "* Using `self`\n",
    "    * When we create a new Car, like `camry = Car(brand=\"Toyota\", model=\"Camry\", year=2023, color=\"red\")`, Python automatically passes `camry` as the `self` argument to the `__init__` method. So the `self.brand`, `self.model` and so on, refer specifically to the attributes of `camry`.\n",
    "\n",
    "\n",
    "<video autoplay loop playsinline controls muted>\n",
    "    <source src=\"../_static/videos/classes_init.mp4\" type=\"video/mp4\">\n",
    "</video>\n",
    "\n",
    "```{note}\n",
    "You can consider the `__init__` method like the birthplace of an object in Python. At the beginning of this method, `self` is like an empty canvas - an object yet to be fully formed.\n",
    "As we going through the `__init__` method, we are like architects adding features (attributes) to our object one by one.\n",
    "```\n",
    "\n",
    "### Class methodes\n",
    "\n",
    "So far, we have explored the `__init__` method, and you may have observed that this particular method name includes leading and trailing double underscores. In Python, there are several reserved names that, when implemented, allow us to add additional functionality to our class. We will delve into more of these reserved names later in the course. However, we are not limited to using only these reserved methods. We have the flexibility to implement various custom methods of our own. Let's proceed by adding a couple of custom methods to our class."
   ]
  },
  {
   "cell_type": "code",
   "execution_count": null,
   "id": "9c725905",
   "metadata": {
    "tags": [
     "hide-output"
    ]
   },
   "outputs": [],
   "source": [
    "class Car:\n",
    "    def __init__(self, brand, model, year, color, fuel=100, odometer=0, doors_locked=True):\n",
    "        self.brand = brand\n",
    "        self.model = model\n",
    "        self.year = year\n",
    "        self.color = color\n",
    "        self.fuel = fuel\n",
    "        self.odometer = odometer\n",
    "        self.doors_locked = doors_locked\n",
    "    \n",
    "    def vehicle_status(self):\n",
    "        \"\"\"Prints the status of the car including all attributes.\"\"\"\n",
    "        print(f\"Car Status:\")\n",
    "        print(f\"-- Brand: {self.brand}\")\n",
    "        print(f\"-- Model: {self.model}\")\n",
    "        print(f\"-- Year: {self.year}\")\n",
    "        print(f\"-- Color: {self.color}\")\n",
    "        print(f\"-- Fuel Level: {self.fuel}%\")\n",
    "        print(f\"-- Odometer: {self.odometer} miles\")\n",
    "        print(f\"-- Doors: {'Locked' if self.doors_locked else 'Unlocked'}\")\n",
    "\n",
    "    def unlock(self):\n",
    "        \"\"\"Unlocks the doors of the car.\"\"\"\n",
    "        if self.doors_locked:\n",
    "            print(\"Doors are now unlocked.\")\n",
    "            self.doors_locked = False\n",
    "        else:\n",
    "            print(\"Doors are already unlocked.\")\n",
    "\n",
    "    def lock(self):\n",
    "        \"\"\"Locks the doors of the car.\"\"\"\n",
    "        if not self.doors_locked:\n",
    "            print(\"Doors are now locked.\")\n",
    "            self.doors_locked = True\n",
    "        else:\n",
    "            print(\"Doors are already locked.\")"
   ]
  },
  {
   "cell_type": "markdown",
   "id": "36be85db",
   "metadata": {},
   "source": [
    "Here we implemented couple methods:\n",
    "* `vehicle_status` prints the status of all attributes in a clear format\n",
    "* `unlock` and `lock` methods handle the doors' locking status\n",
    "\n",
    "Now let's call our methods:"
   ]
  },
  {
   "cell_type": "code",
   "execution_count": null,
   "id": "1c555baf",
   "metadata": {},
   "outputs": [],
   "source": [
    "camry = Car(brand=\"Toyota\", model=\"Camry\", year=2023, color=\"red\")\n",
    "camry.vehicle_status()\n",
    "camry.unlock()"
   ]
  },
  {
   "cell_type": "markdown",
   "id": "74b849f0",
   "metadata": {},
   "source": [
    "We could say that methods are functions that are associated with objects.\n",
    "They are defined within a class and operate on instances (objects) of that class.\n",
    "The crucial difference between methods and functions is that methods are linked to specific objects.\n",
    "When you call a method, often it operates on the particular instance (object) it is associated with.\n",
    "This connection enables objects to have behaviors tailored to their own state.\n",
    "For example, a `Car` object might have a `start_engine` method that makes sense for cars but might not make sense for other objects.\n",
    "\n",
    "When you execute a method with an object (`object.method()`), behind the scenes, it's like saying `Car.method(object)`. In this context, `self` refers to the instance of the object you're working with.\n",
    "\n",
    "For a quick check, you can run the explicit version by specifying the class name directly. It's a way of saying, \"Hey, this method is designed to work with this specific object.\""
   ]
  },
  {
   "cell_type": "code",
   "execution_count": null,
   "id": "ec013054",
   "metadata": {},
   "outputs": [],
   "source": [
    "Car.vehicle_status(camry)"
   ]
  },
  {
   "cell_type": "markdown",
   "id": "d6bc82d1",
   "metadata": {},
   "source": [
    "The code above is same as `camry.vehicle_status()`. The idea is that we can run it directly using the object without always explicitly specifying the class name. As you can see, `self` corresponds to `camry` in this specific case.\n",
    "\n",
    "### Class as a factory\n",
    "\n",
    "<!-- class_factory -->\n",
    "\n",
    "```{image} ./pics/class_factory.jpg\n",
    ":align: center\n",
    "```\n",
    "\n",
    "Think of a class as a versatile factory capable of creating (instantiating) objects with distinct features. In the earlier example, our `Car` class allowed us to model and handle real-world objects — cars complete with their own attributes and behaviors.\n",
    "\n",
    "In a broader sense, you can create different classes tailored to your specific needs, each with its own set of attributes and methods. For instance, imagine a class designed for working with gene expression data. Here, attributes might include a matrix of counts, while methods could encompass various normalizations and differential expression analysis techniques.\n",
    "\n",
    "To underscore this concept, consider the popular Python package scanpy designed for the analysis of single-cell data. In scanpy, you encounter specific classes and data types crafted for the nuanced demands of single-cell analysis. These classes seamlessly handle various tasks, showcasing the adaptability and power of object-oriented programming.\n",
    "\n",
    "### Sharable class attributes\n",
    "\n",
    "We can create class attributes that will be shared among all instances of the class. For example, let's say we want to store the geographical location of our factory and have access to this information from any instance. Here is an example of how we can achieve this:"
   ]
  },
  {
   "cell_type": "code",
   "execution_count": null,
   "id": "44593804",
   "metadata": {},
   "outputs": [],
   "source": [
    "class Car:\n",
    "    factory_location = \"51.010406, 10.256190\"\n",
    "    def __init__(self, brand, model, year, color, fuel=100, odometer=0, doors_locked=True):\n",
    "        self.brand = brand\n",
    "        self.model = model\n",
    "        self.year = year\n",
    "        self.color = color\n",
    "        self.fuel = fuel\n",
    "        self.odometer = odometer\n",
    "        self.doors_locked = doors_locked\n",
    "\n",
    "camry = Car(brand=\"Toyota\", model=\"Camry\", year=2023, color=\"red\")\n",
    "tesla_x = Car(brand=\"Tesla\", model=\"X\", year=2023, color=\"black\")\n",
    "\n",
    "print(camry.factory_location)\n",
    "print(tesla_x.factory_location)"
   ]
  },
  {
   "cell_type": "markdown",
   "id": "893ee68b",
   "metadata": {},
   "source": [
    "### Magic methods\n",
    "\n",
    "Let's consider the following setup: we want to add a special attribute to cars that measures their horsepower. Now, let's say we have a list of different cars and we want to sort them based on their horsepower values. Ideally, we would like to use `sorted([car1, car2, car3])` to achieve this.\n",
    "\n",
    "However, we cannot run this code right away because Python doesn't know how to compare our car objects. In order to sort our objects, we need to be able to compare them. Currently, if we try to compare our car objects, we will encounter an error."
   ]
  },
  {
   "cell_type": "code",
   "execution_count": null,
   "id": "18b4fab5",
   "metadata": {},
   "outputs": [],
   "source": [
    "class Car:\n",
    "    def __init__(self, brand, model, year, color, horsepower, fuel=100, odometer=0, doors_locked=True):\n",
    "        self.brand = brand\n",
    "        self.model = model\n",
    "        self.year = year\n",
    "        self.color = color\n",
    "        self.fuel = fuel\n",
    "        self.odometer = odometer\n",
    "        self.doors_locked = doors_locked\n",
    "        self.horsepower = horsepower\n",
    "\n",
    "\n",
    "camry = Car(brand=\"Toyota\", model=\"Camry\", year=2023, color=\"red\", horsepower=210)\n",
    "tesla_x = Car(brand=\"Tesla\", model=\"X\", year=2023, color=\"black\", horsepower=800)"
   ]
  },
  {
   "cell_type": "markdown",
   "id": "a6b26331",
   "metadata": {},
   "source": [
    "Comparison `print(camry < tesla_x)` lead us to the following error:\n",
    "```\n",
    "TypeError: '<' not supported between instances of 'Car' and 'Car'\n",
    "```\n",
    "\n",
    "This is where magic methods come to our rescue. Basically, Python has a lot of reserved method names that, when implemented, add new possibilities for our objects.\n",
    "In this specific case, we want to check whether the left object is less than the right one. To do this, we can implement a method with the name `__lt__`. Let's implement it:"
   ]
  },
  {
   "cell_type": "code",
   "execution_count": null,
   "id": "9eb9c5a0",
   "metadata": {},
   "outputs": [],
   "source": [
    "class Car:\n",
    "    def __init__(self, brand, model, year, color, horsepower, fuel=100, odometer=0, doors_locked=True):\n",
    "        self.brand = brand\n",
    "        self.model = model\n",
    "        self.year = year\n",
    "        self.color = color\n",
    "        self.fuel = fuel\n",
    "        self.odometer = odometer\n",
    "        self.doors_locked = doors_locked\n",
    "        self.horsepower = horsepower\n",
    "    def __lt__(self, other):\n",
    "        return self.horsepower < other.horsepower\n",
    "\n",
    "\n",
    "camry = Car(brand=\"Toyota\", model=\"Camry\", year=2023, color=\"red\", horsepower=210)\n",
    "tesla_x = Car(brand=\"Tesla\", model=\"X\", year=2023, color=\"black\", horsepower=800)\n",
    "\n",
    "print(\"Camry has higher power rather Tesla:\", tesla_x < camry)"
   ]
  },
  {
   "cell_type": "markdown",
   "id": "0d543d8f",
   "metadata": {},
   "source": [
    "Now we can sort our objects in ascending order."
   ]
  },
  {
   "cell_type": "code",
   "execution_count": null,
   "id": "b940e89f",
   "metadata": {},
   "outputs": [],
   "source": [
    "nissan_gtr = Car(brand=\"Nissan\", model=\"GT-R\", year=2023, color=\"black\", horsepower=565)\n",
    "cars = [tesla_x, camry, nissan_gtr]\n",
    "print(sorted(cars))"
   ]
  },
  {
   "cell_type": "markdown",
   "id": "67435fc3",
   "metadata": {},
   "source": [
    "As you can see, the `sorted` method works without any problems.\n",
    "However, the output doesn't make a lot of sense to us.\n",
    "To address this, we can implement another magic method called `__repr__`."
   ]
  },
  {
   "cell_type": "code",
   "execution_count": null,
   "id": "496fb182",
   "metadata": {},
   "outputs": [],
   "source": [
    "class Car:\n",
    "    def __init__(self, brand, model, year, color, horsepower, fuel=100, odometer=0, doors_locked=True):\n",
    "        self.brand = brand\n",
    "        self.model = model\n",
    "        self.year = year\n",
    "        self.color = color\n",
    "        self.fuel = fuel\n",
    "        self.odometer = odometer\n",
    "        self.doors_locked = doors_locked\n",
    "        self.horsepower = horsepower\n",
    "    def __lt__(self, other):\n",
    "        return self.horsepower < other.horsepower\n",
    "    def __repr__(self):\n",
    "        return f\"Brand: {self.brand}, Model: {self.model}\"\n",
    "\n",
    "\n",
    "camry = Car(brand=\"Toyota\", model=\"Camry\", year=2023, color=\"red\", horsepower=210)\n",
    "tesla_x = Car(brand=\"Tesla\", model=\"X\", year=2023, color=\"black\", horsepower=800)\n",
    "nissan_gtr = Car(brand=\"Nissan\", model=\"GT-R\", year=2023, color=\"black\", horsepower=565)\n",
    "\n",
    "cars = [tesla_x, camry, nissan_gtr]\n",
    "print(*sorted(cars), sep='\\n')"
   ]
  }
 ],
 "metadata": {
  "jupytext": {
   "formats": "ipynb,md:myst"
  },
  "kernelspec": {
   "display_name": "Python 3 (ipykernel)",
   "language": "python",
   "name": "python3"
  },
  "language_info": {
   "codemirror_mode": {
    "name": "ipython",
    "version": 3
   },
   "file_extension": ".py",
   "mimetype": "text/x-python",
   "name": "python",
   "nbconvert_exporter": "python",
   "pygments_lexer": "ipython3",
   "version": "3.12.4"
  }
 },
 "nbformat": 4,
 "nbformat_minor": 5
}
