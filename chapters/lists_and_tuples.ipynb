{
 "cells": [
  {
   "cell_type": "markdown",
   "id": "8519ab85",
   "metadata": {},
   "source": [
    "# Lists, Tuples and Strings\n",
    "\n",
    "In this episode, we will discuss some iterable objects in Python, such as lists, tuples, and strings.\n",
    "\n",
    "Previously, we talked about the `int` data type, where each object could only store one specific value of this type. However, there are times when it is crucial to combine objects into a collection for easier manipulation and work with them.\n",
    "\n",
    "Let's begin by exploring the `list` data type.\n",
    "\n",
    "## `list` data type\n",
    "Imagine wanting to measure your stress level every five minutes. In this case, you would have 288 observations for just one day. However, storing and operating on this data in Python would require 288 different variables, which is not very efficient.\n",
    "\n",
    "<video autoplay loop playsinline controls muted>\n",
    "    <source src=\"../_static/videos/list_stress.mp4\" type=\"video/mp4\">\n",
    "</video>\n",
    "\n",
    "To address this issue, we can use lists in Python. Here is an example of how you can create a list in Python:"
   ]
  },
  {
   "cell_type": "code",
   "execution_count": null,
   "id": "505b0650-e84d-4a07-be66-70faaca555b5",
   "metadata": {
    "tags": [
     "hide-output"
    ]
   },
   "outputs": [],
   "source": [
    "stress_level = [0, 0, 10, 20, 100, 0, 0]"
   ]
  },
  {
   "cell_type": "markdown",
   "id": "d110fdaf",
   "metadata": {},
   "source": [
    "In general lists could contain different data types:"
   ]
  },
  {
   "cell_type": "code",
   "execution_count": null,
   "id": "8fe7933f",
   "metadata": {
    "tags": [
     "hide-output"
    ]
   },
   "outputs": [],
   "source": [
    "l = [\"abc\", 1, 42.0]\n",
    "print(l)"
   ]
  },
  {
   "cell_type": "markdown",
   "id": "420f260c",
   "metadata": {},
   "source": [
    "### Indexing\n",
    "\n",
    "Let's create the following list:"
   ]
  },
  {
   "cell_type": "code",
   "execution_count": null,
   "id": "7235946c",
   "metadata": {
    "tags": [
     "hide-output"
    ]
   },
   "outputs": [],
   "source": [
    "numbers = [10, 20, 30, 40, 50, 60, 70, 80, 90, 100]"
   ]
  },
  {
   "cell_type": "markdown",
   "id": "d172413f",
   "metadata": {},
   "source": [
    "In reality, each element in a list is associated with an index. This allows us to access specific elements from our list.\n",
    "\n",
    "<video autoplay loop playsinline controls muted>\n",
    "    <source src=\"../_static/videos/list_indexing.mp4\" type=\"video/mp4\">\n",
    "</video>\n",
    "\n",
    "\n",
    "In Python, indexing starts from `0`, so the first element in a list is associated with the index `0`.\n",
    "Now let's use indexing to access elements from a list.Here are some examples:"
   ]
  },
  {
   "cell_type": "code",
   "execution_count": null,
   "id": "c516d822",
   "metadata": {
    "tags": [
     "hide-output"
    ]
   },
   "outputs": [],
   "source": [
    "print(\"numbers[0]:\", numbers[0])\n",
    "print(\"numbers[3]:\", numbers[3])"
   ]
  },
  {
   "cell_type": "markdown",
   "id": "78c6f21d",
   "metadata": {},
   "source": [
    "We can change specific elements of our list by using the indexes:"
   ]
  },
  {
   "cell_type": "code",
   "execution_count": null,
   "id": "439c97f1",
   "metadata": {
    "tags": [
     "hide-output"
    ]
   },
   "outputs": [],
   "source": [
    "numbers = [10, 20, 30, 40, 50, 60, 70, 80, 90, 100]\n",
    "numbers[0] = -100\n",
    "numbers[-1] = 0\n",
    "print(numbers)"
   ]
  },
  {
   "cell_type": "markdown",
   "id": "326325c3",
   "metadata": {},
   "source": [
    "### Slicing\n",
    "\n",
    "There are times when we need to retrieve a specific part of the list, not just a single value.\n",
    "To efficiently do that, we can use slicing techniques.\n",
    "The concept is somewhat similar to the `range` function that we previously learned in the course.\n",
    "The general syntax for slicing is as follows:\n",
    "```python\n",
    "list_object[start:stop:step]\n",
    "```\n",
    "Here:\n",
    "- `start` is the starting point from which we want to begin our slice. Default value is `0`.\n",
    "- `stop` the position where we want to stop the slicing (take a look at the fact that the value itself is not included in the range, just like with the `range` function). Default value is length of the list object.\n",
    "- `step` is the step for our slicing. Default value is `1`\n",
    "\n",
    "Let's take a look on some exapmles:"
   ]
  },
  {
   "cell_type": "code",
   "execution_count": null,
   "id": "6d89cf0c",
   "metadata": {
    "tags": [
     "hide-output"
    ]
   },
   "outputs": [],
   "source": [
    "numbers = [10, 20, 30, 40, 50, 60, 70, 80, 90, 100]\n",
    "print(\"numbers[:3]:\", numbers[:3]) # same as numbers[0:3:1]\n",
    "print(\"numbers[3:]:\", numbers[3:]) # same as numbers[3:10:1]\n",
    "print(\"numbers[::2]:\", numbers[::2]) # same as numbers[0:10:2]"
   ]
  },
  {
   "cell_type": "markdown",
   "id": "e672c2a0",
   "metadata": {},
   "source": [
    "<video autoplay loop playsinline controls muted>\n",
    "    <source src=\"../_static/videos/list_slicing.mp4\" type=\"video/mp4\">\n",
    "</video>\n",
    "\n",
    "### `list` assignments\n",
    "\n",
    "Let's examine the list assignment, as it may appear challenging at first glance.\n",
    "```python3\n",
    "numbers_1 = [10, 20, 30, 40, 50, 60, 70, 80, 90, 100]\n",
    "numbers_2 = numbers_1\n",
    "\n",
    "numbers_2[0] = 100\n",
    "```\n",
    "\n",
    "````{tab-set}\n",
    "```{tab-item} Question\n",
    "What do you think stores in the `numbers_1` variable?\n",
    "```\n",
    "\n",
    "```{tab-item} Answer\n",
    "`numbers_1` corresponds to the following list: `[100, 20, 30, 40, 50, 60, 70, 80, 90, 100]`\n",
    "```\n",
    "````\n",
    "\n",
    "This happens because in reality, in this specific case, the computer memory contains a dedicated place that contains the values of our list. After we specify a variable, it simply points to this object. When we use `numbers_2 = numbers_1`, we do not create another object (meaning we don't copy it), but rather create another pointer to the same object.\n",
    "Because of this, when we modify `numbers_2`, we are also modifying the underlying object, which is the same as the `numbers_1` variable.\n",
    "\n",
    "<video autoplay loop playsinline controls muted>\n",
    "    <source src=\"../_static/videos/list_assignment.mp4\" type=\"video/mp4\">\n",
    "</video>\n",
    "\n",
    "If you need to create an actual copy of the list, you can use slicing. Slicing always results in a new list.\n",
    "Here is an example:"
   ]
  },
  {
   "cell_type": "code",
   "execution_count": null,
   "id": "be0b49d8",
   "metadata": {
    "tags": [
     "hide-output"
    ]
   },
   "outputs": [],
   "source": [
    "numbers_1 = [10, 20, 30, 40, 50, 60, 70, 80, 90, 100]\n",
    "numbers_2 = numbers_1[::]\n",
    "\n",
    "numbers_2[0] = 100\n",
    "print(\"numbers_1:\", numbers_1)\n",
    "print(\"numbers_2:\", numbers_2)"
   ]
  },
  {
   "cell_type": "markdown",
   "id": "fe0d2f44",
   "metadata": {},
   "source": [
    "However, if you want to check whether the underlying objects of the variables are the same, you can use the built-in `id` function. Here is how it works:"
   ]
  },
  {
   "cell_type": "code",
   "execution_count": null,
   "id": "7af75113",
   "metadata": {
    "tags": [
     "hide-output"
    ]
   },
   "outputs": [],
   "source": [
    "numbers_1 = [10, 20, 30, 40, 50, 60, 70, 80, 90, 100]\n",
    "numbers_2 = numbers_1\n",
    "\n",
    "print(\"Ids after numbers_2 = numbers_1\")\n",
    "print(id(numbers_1), id(numbers_2))\n",
    "\n",
    "numbers_2 = numbers_1[::]\n",
    "print(\"Ids after numbers_2 = numbers_1[::]\")\n",
    "print(id(numbers_1), id(numbers_2))"
   ]
  },
  {
   "cell_type": "markdown",
   "id": "2c1bce1b",
   "metadata": {},
   "source": [
    "As you can see in the first case, the results of the \"id\" calls are the same. However, when we use slicing, we have two different underlying objects in memory.\n",
    "\n",
    "\n",
    "\n",
    "### `list` methods\n",
    "Before I did not mention it, but in reality, each object in Python has specific features that are specified by its data type. Lists are no exception. These features are called methods. Let's take a look at some of them.\n",
    "You can append new element to list:"
   ]
  },
  {
   "cell_type": "code",
   "execution_count": null,
   "id": "66a5ead9",
   "metadata": {
    "tags": [
     "hide-output"
    ]
   },
   "outputs": [],
   "source": [
    "stress_level = [0, 0, 10, 20, 100, 0, 0]\n",
    "print(\"before append:\", stress_level)\n",
    "stress_level.append(100)\n",
    "print(\"after append:\", stress_level)"
   ]
  },
  {
   "cell_type": "markdown",
   "id": "c82b78e5",
   "metadata": {},
   "source": [
    "As you can see here, we use the following syntax: we put a `.` after the variable name and then specify the method name - `append`.\n",
    "There are many <a href=\"https://www.w3schools.com/python/python_ref_list.asp\" target=\"_blank\">more</a> different methods associated with the `list` data type.\n",
    "Let's take a look on some other examples:"
   ]
  },
  {
   "cell_type": "code",
   "execution_count": null,
   "id": "2b9e24b4",
   "metadata": {
    "tags": [
     "hide-output"
    ]
   },
   "outputs": [],
   "source": [
    "stress_level = [0, 0, 10, 20, 100, 0, 0]\n",
    "stress_level.extend([90, 80, 70])\n",
    "print(\"After extend:\", stress_level)\n",
    "\n",
    "stress_level.pop()\n",
    "print(\"After pop:\", stress_level)\n",
    "\n",
    "stress_level.sort()\n",
    "print(\"After sort:\", stress_level)"
   ]
  },
  {
   "cell_type": "markdown",
   "id": "77b7474c",
   "metadata": {},
   "source": [
    "If you want to remove an element, you can use the method `remove`. However, if you prefer to remove the element by index, you can use the `del` operator instead of the `remove` method. Here is an example of how it works:"
   ]
  },
  {
   "cell_type": "code",
   "execution_count": null,
   "id": "c23a6c28",
   "metadata": {
    "tags": [
     "hide-output"
    ]
   },
   "outputs": [],
   "source": [
    "stress_level = [0, 0, 10, 20, 100, 0, 0]\n",
    "print('stress_level before del:', stress_level)\n",
    "\n",
    "del stress_level[2]\n",
    "print('stress_level after del:', stress_level)"
   ]
  },
  {
   "cell_type": "markdown",
   "id": "2fc8e007",
   "metadata": {},
   "source": [
    "In the beginning, we will rely on the predefined methods that come with Python data objects by default. However, eventually, we will learn how to write our own data types (classes) and specify the methods we need.\n",
    "\n",
    "### Operations with `list`-s\n",
    "\n",
    "You can use the following operators with lists: `+` and `*`.\n",
    "- `+` - concatenates two lists into one, similar to how it works with strings.\n",
    "- `*` - repeats elements of a list a specified number of times.\n",
    "Examples:"
   ]
  },
  {
   "cell_type": "code",
   "execution_count": null,
   "id": "f36ac487",
   "metadata": {
    "tags": [
     "hide-output"
    ]
   },
   "outputs": [],
   "source": [
    "# we can create list filled with zeros\n",
    "stress_level = [0] * 10\n",
    "print(stress_level)\n",
    "\n",
    "stress_level = stress_level + [10] * 3\n",
    "print(stress_level)"
   ]
  },
  {
   "cell_type": "markdown",
   "id": "bd588fbd",
   "metadata": {},
   "source": [
    "### `len` function\n",
    "\n",
    "In python there is very easy and convinient way to get the length of the object.\n",
    "To get the length you can simply use the `len` function."
   ]
  },
  {
   "cell_type": "code",
   "execution_count": null,
   "id": "d814ecd9",
   "metadata": {
    "tags": [
     "hide-output"
    ]
   },
   "outputs": [],
   "source": [
    "numbers = [10, 20, 30, 40, 50, 60, 70, 80, 90, 100]\n",
    "print(len(numbers))"
   ]
  },
  {
   "cell_type": "markdown",
   "id": "6abdf261",
   "metadata": {},
   "source": [
    "### `for` loop and lists\n",
    "Now, let's imagine that we want to iterate over each element in a list and perform some action on it. In order to do this, we can use a `for` loop.\n",
    "\n",
    "First, let's start by creating the list using a `for` loop:"
   ]
  },
  {
   "cell_type": "code",
   "execution_count": null,
   "id": "05bbde2d",
   "metadata": {
    "tags": [
     "hide-output"
    ]
   },
   "outputs": [],
   "source": [
    "numbers = [] # here we create an empty list\n",
    "for i in range(10):\n",
    "    numbers.append(i)\n",
    "\n",
    "print(numbers)"
   ]
  },
  {
   "cell_type": "markdown",
   "id": "ea22037f",
   "metadata": {},
   "source": [
    "Now we can perform some actions over the list:"
   ]
  },
  {
   "cell_type": "code",
   "execution_count": null,
   "id": "0a151b4f",
   "metadata": {
    "tags": [
     "hide-output"
    ]
   },
   "outputs": [],
   "source": [
    "for i in range(len(numbers)):\n",
    "    print(numbers[i] ** 2)"
   ]
  },
  {
   "cell_type": "markdown",
   "id": "b33b05f0",
   "metadata": {},
   "source": [
    "For example, we took each element from the list and calculated its square value.\n",
    "Take a look that we did not modify the original list, since we just print some values.\n",
    "However, if you want to modify values you can use indexing and reassign operator:"
   ]
  },
  {
   "cell_type": "code",
   "execution_count": null,
   "id": "31016971",
   "metadata": {
    "tags": [
     "hide-output"
    ]
   },
   "outputs": [],
   "source": [
    "print(\"List before modification:\", numbers)\n",
    "\n",
    "for i in range(len(numbers)):\n",
    "    numbers[i] = numbers[i] * numbers[i]\n",
    "\n",
    "print(\"List after modification:\", numbers)"
   ]
  },
  {
   "cell_type": "markdown",
   "id": "cf78b9ed",
   "metadata": {},
   "source": [
    "````{note}\n",
    "Python offers an alternative method for iterating over list elements using the `for` loop. Instead of using the `range` function and index variable `i`, we can directly specify a variable to hold a copy of each element during the iteration. Let's take a look at that:\n",
    "````"
   ]
  },
  {
   "cell_type": "code",
   "execution_count": null,
   "id": "736c6adc",
   "metadata": {
    "tags": [
     "hide-output"
    ]
   },
   "outputs": [],
   "source": [
    "for elem in numbers:\n",
    "    print(elem, end = \" \")"
   ]
  },
  {
   "cell_type": "markdown",
   "id": "11e2ae50",
   "metadata": {},
   "source": [
    "In this example, instead of iterating over all possible indexes, we are directly iterating through the elements. We used the variable name `elem` and replaced the `range` function with the name of the list object.\n",
    "A key moment here is that the variable `elem` is associated with a new object that is a copy of the real element in the list. This means that we cannot directly change the elements of the list in-place.\n",
    "Here is the example:"
   ]
  },
  {
   "cell_type": "code",
   "execution_count": null,
   "id": "e0569a9f",
   "metadata": {
    "tags": [
     "hide-output"
    ]
   },
   "outputs": [],
   "source": [
    "numbers = [0, 1, 2, 3, 4]\n",
    "for elem in numbers:\n",
    "    elem = elem + 5\n",
    "print(numbers)"
   ]
  },
  {
   "cell_type": "markdown",
   "id": "54fd641b",
   "metadata": {},
   "source": [
    "So, you can use this approach if you do not want to modify the values in your list.\n",
    "\n",
    "\n",
    "### List comprehension\n",
    "\n",
    "List comprehension is very cool way to define the list and fill it.\n",
    "We saw previously this way to fill list with using for loop:"
   ]
  },
  {
   "cell_type": "code",
   "execution_count": null,
   "id": "38b3071e",
   "metadata": {
    "tags": [
     "hide-output"
    ]
   },
   "outputs": [],
   "source": [
    "numbers = []\n",
    "for i in range(10):\n",
    "    numbers.append(i)\n",
    "print(numbers)"
   ]
  },
  {
   "cell_type": "markdown",
   "id": "ec7e4fd6",
   "metadata": {},
   "source": [
    "However, it requires a total of 4 lines of code to perform this simple action. In such situations, we can use list comprehension to simplify it."
   ]
  },
  {
   "cell_type": "code",
   "execution_count": null,
   "id": "d83e1514",
   "metadata": {
    "tags": [
     "hide-output"
    ]
   },
   "outputs": [],
   "source": [
    "numbers = [i for i in range(10)]\n",
    "print(numbers)"
   ]
  },
  {
   "cell_type": "markdown",
   "id": "09322b8d",
   "metadata": {},
   "source": [
    "Cool, isn't it? \n",
    "It appears that we have placed the for loop inside the list declaration.\n",
    "Let's split it into two parts:\n",
    "\n",
    "- `i`: This is the value that will be placed inside the list. You can modify it and check the results.\n",
    "- `for i in range(10)`: This statement specifies the number of objects and the elements that should be used as a specimen to be placed into the list.\n",
    "\n",
    "Also we can specify some condition which will filter out elements from the list which don't meet some property:"
   ]
  },
  {
   "cell_type": "code",
   "execution_count": null,
   "id": "9be69322",
   "metadata": {
    "tags": [
     "hide-output"
    ]
   },
   "outputs": [],
   "source": [
    "numbers = [i * 10 for i in range(10) if (i * 10) >= 50]\n",
    "print(numbers)"
   ]
  },
  {
   "cell_type": "markdown",
   "id": "4a4dd309",
   "metadata": {},
   "source": [
    "Here we have three parts:\n",
    "- The element `i * 10` will be added to the list.\n",
    "- The statement `for i in range(10)` specifies the range for `i`.\n",
    "- The condition `if i >= 50` is used as a filter to keep only those elements that meet the given criteria.\n",
    "\n",
    "Additionally, you can use multiple for loops within a list comprehension."
   ]
  },
  {
   "cell_type": "code",
   "execution_count": null,
   "id": "3ae7eaca",
   "metadata": {
    "tags": [
     "hide-output"
    ]
   },
   "outputs": [],
   "source": [
    "pairs = [str(i) + \", \" + str(j) for i in range(3) for j in range(4)]\n",
    "print(pairs)"
   ]
  },
  {
   "cell_type": "markdown",
   "id": "55e5da91",
   "metadata": {},
   "source": [
    "```{warning}\n",
    "List comprehensions are like shortcuts in Python for creating lists. They're great when you want to make a new list by applying a simple operation to every item in an existing list. For example, if you have a list of numbers and want to double each one, a list comprehension is perfect.\n",
    "\n",
    "However, you should avoid list comprehensions when things get too complex. If you need to write a long, convoluted expression or if you're not working with lists, but instead need to perform actions that involve multiple lines of code or complex logic, it's better to use a regular `for` loop. List comprehensions are like race cars on a straight track; they're fast and efficient, but when the road gets twisty, it's better to go with the steady and reliable option.\n",
    "```\n",
    "\n",
    "\n",
    "## `tuple` data type\n",
    "Tuples are another example of a data type that can store multiple objects. However, once you create a `tuple` object, you cannot change its elements. To create a `tuple` object, use parentheses `()`."
   ]
  },
  {
   "cell_type": "code",
   "execution_count": null,
   "id": "4af7cdae",
   "metadata": {
    "tags": [
     "hide-output"
    ]
   },
   "outputs": [],
   "source": [
    "coordinates = (3, 4)"
   ]
  },
  {
   "cell_type": "markdown",
   "id": "9cfee55f",
   "metadata": {},
   "source": [
    "In this example, we've created a tuple called coordinates with two values, (3, 4).\n",
    "\n",
    "You can access the elements of a tuple object using indexing, in the same way as we did with a list."
   ]
  },
  {
   "cell_type": "code",
   "execution_count": null,
   "id": "23075667",
   "metadata": {
    "tags": [
     "hide-output"
    ]
   },
   "outputs": [],
   "source": [
    "x = coordinates[0]\n",
    "y = coordinates[1]\n",
    "print(x, y)"
   ]
  },
  {
   "cell_type": "markdown",
   "id": "c96c6835",
   "metadata": {},
   "source": [
    "However, if you try to change an element of a tuple object, you will get an error. You can try executing the following code:\n",
    "```python\n",
    "coordinates = (3, 4)\n",
    "coordinates[0] = 0\n",
    "```\n",
    "The error message is the following:\n",
    "```\n",
    "TypeError: 'tuple' object does not support item assignment\n",
    "```\n",
    "\n",
    "\n",
    "Now, let's highlight some key differences between tuples and lists:\n",
    "\n",
    "- Immutability: Tuples are immutable, meaning you can't change their contents once created, while lists are mutable, so you can modify them.\n",
    "- Syntax: Tuples use parentheses `()` for creation, while lists use square brackets `[]`.\n",
    "- Use Cases: Tuples are useful when you want to ensure data remains constant, like latitude and longitude coordinates or information in a database record. Lists, being mutable, are better when you need a flexible collection to add or remove items.\n",
    "\n",
    "So, in summary, when you want data that won't change, use a tuple, and when you need flexibility, go with a list. It's like choosing between a sealed bag (tuple) and a versatile backpack (list) based on your specific needs in Python.\n",
    "\n",
    "\n",
    "## `str` data type\n",
    "\n",
    "### Methods\n",
    "Previously, we have already seen the data type for strings in Python. Today, we will take a closer look at them and learn about their new features.\n",
    "Strings come with some helpful built-in functions, often called methods, that let you perform various operations on them. Here are a few common ones (the full list of methods you can find <a href=\"https://www.w3schools.com/python/python_ref_string.asp\" target=\"_blank\">here</a>):\n",
    "- `upper()`: Transforms all characters to uppercase.\n",
    "- `lower()`: Converts all characters to lowercase.\n",
    "- `replace()`: Substitutes one part of the string with another.\n",
    "- `split()`: Breaks the string into a list using a separator."
   ]
  },
  {
   "cell_type": "code",
   "execution_count": null,
   "id": "f9f89b96",
   "metadata": {
    "tags": [
     "hide-output"
    ]
   },
   "outputs": [],
   "source": [
    "text = \"Random text\"\n",
    "upper_text = text.upper()\n",
    "lower_text = text.lower()\n",
    "repl_text = text.replace(\"Random\", \"Non-random\")\n",
    "words = text.split()\n",
    "\n",
    "print(\"upper_text:\", upper_text)\n",
    "print(\"lower_text:\", lower_text)\n",
    "print(\"repl_text:\", repl_text)\n",
    "print(\"words:\", words)"
   ]
  },
  {
   "cell_type": "markdown",
   "id": "a5610bf1",
   "metadata": {},
   "source": [
    "An important note is that strings are immutable objects. In all cases of method usage, we did not modify the original string."
   ]
  },
  {
   "cell_type": "code",
   "execution_count": null,
   "id": "56d8f937",
   "metadata": {
    "tags": [
     "hide-output"
    ]
   },
   "outputs": [],
   "source": [
    "print(text)"
   ]
  },
  {
   "cell_type": "markdown",
   "id": "aaa6cfbe",
   "metadata": {},
   "source": [
    "We can determine the length of a string using the same method as we did with lists. Additionally, we can use indexing:"
   ]
  },
  {
   "cell_type": "code",
   "execution_count": null,
   "id": "c81455bd",
   "metadata": {
    "tags": [
     "hide-output"
    ]
   },
   "outputs": [],
   "source": [
    "for i in range(len(text)):\n",
    "    print(str(i) + \": \" + text[i])"
   ]
  },
  {
   "cell_type": "markdown",
   "id": "ae741288",
   "metadata": {},
   "source": [
    "Since strings are immutable, we cannot reassign specific elements.\n",
    "```python\n",
    "text = \"Random text\"\n",
    "text[0] = \"W\"\n",
    "```\n",
    "\n",
    "```\n",
    "TypeError: 'str' object does not support item assignment\n",
    "```\n",
    "\n",
    "### Converting a List to a String\n",
    "\n",
    "If you have a list and want to turn it into a single string, you can use the join() method. This method joins the elements of a list into a single string, with a specified separator in between."
   ]
  },
  {
   "cell_type": "code",
   "execution_count": null,
   "id": "42b4d8be",
   "metadata": {
    "tags": [
     "hide-output"
    ]
   },
   "outputs": [],
   "source": [
    "fruits = [\"apple\", \"banana\", \"cherry\"]\n",
    "fruit_string = \"_\".join(fruits)\n",
    "print(fruit_string)"
   ]
  },
  {
   "cell_type": "markdown",
   "id": "bf7dd40b",
   "metadata": {},
   "source": [
    "### Converting a String to a List\n",
    "\n",
    "If you have a string and want to split it into a list of elements, you can use the split() method. This method breaks the string into parts using a specified separator."
   ]
  },
  {
   "cell_type": "code",
   "execution_count": null,
   "id": "353139ad",
   "metadata": {
    "tags": [
     "hide-output"
    ]
   },
   "outputs": [],
   "source": [
    "fruit_string = \"apple, banana, cherry\"\n",
    "fruits = fruit_string.split(\", \")\n",
    "print(fruits)"
   ]
  },
  {
   "cell_type": "markdown",
   "id": "bf3c5c87",
   "metadata": {},
   "source": [
    "If you want to create a list where each symbol is a separate element, you can use the following approach:"
   ]
  },
  {
   "cell_type": "code",
   "execution_count": null,
   "id": "005ed48a",
   "metadata": {
    "tags": [
     "hide-output"
    ]
   },
   "outputs": [],
   "source": [
    "name_str = \"Vladimir\"\n",
    "name_list = list(name_str)\n",
    "print(name_list)"
   ]
  },
  {
   "cell_type": "markdown",
   "id": "6edc3083",
   "metadata": {},
   "source": [
    "## Similarities between lists, tuples, and strings\n",
    "Despite their differences, lists, strings, and tuples also share some common features.\n",
    "\n",
    "- **One common feature is that they all have a length, which can be obtained using the `len` function:**"
   ]
  },
  {
   "cell_type": "code",
   "execution_count": null,
   "id": "b3a0254a",
   "metadata": {
    "tags": [
     "hide-output"
    ]
   },
   "outputs": [],
   "source": [
    "line = \"The happiness of your life depends upon the quality of your thoughts.\"\n",
    "numbers = [i * 10 for i in range(10)]\n",
    "configs = (1920, 1080, \"Windows\")\n",
    "\n",
    "print(len(line)) # number of symbols\n",
    "print(len(numbers)) # number of elements \n",
    "print(len(configs)) # number of elements"
   ]
  },
  {
   "cell_type": "markdown",
   "id": "8b1f4060",
   "metadata": {},
   "source": [
    "- **Lists, strings, and tuples are iterable objects, allowing iteration over them using a `for` loop:**"
   ]
  },
  {
   "cell_type": "code",
   "execution_count": null,
   "id": "179d1fb9",
   "metadata": {
    "tags": [
     "hide-output"
    ]
   },
   "outputs": [],
   "source": [
    "for elem in line:\n",
    "    print(elem, end=\"\")\n",
    "print()\n",
    "\n",
    "for elem in numbers:\n",
    "    print(elem, end=\" \")\n",
    "print()\n",
    "\n",
    "for elem in configs:\n",
    "    print(elem, end=\" \")\n",
    "print()"
   ]
  },
  {
   "cell_type": "markdown",
   "id": "856284d3",
   "metadata": {},
   "source": [
    "Here we use an additional `end` argument in the `print` function, which allows us to replace the default new line symbol `\\n` with a custom one.\n",
    "\n",
    "- **We can check whether an element or substring is part of a list, tuple, or string by using the `in` operator:**"
   ]
  },
  {
   "cell_type": "code",
   "execution_count": null,
   "id": "ae8d326e",
   "metadata": {
    "tags": [
     "hide-output"
    ]
   },
   "outputs": [],
   "source": [
    "print(\"happiness\" in line)\n",
    "print(10 in numbers)\n",
    "print(1920 in configs)"
   ]
  }
 ],
 "metadata": {
  "jupytext": {
   "formats": "ipynb,md:myst"
  },
  "kernelspec": {
   "display_name": "Python 3 (ipykernel)",
   "language": "python",
   "name": "python3"
  },
  "language_info": {
   "codemirror_mode": {
    "name": "ipython",
    "version": 3
   },
   "file_extension": ".py",
   "mimetype": "text/x-python",
   "name": "python",
   "nbconvert_exporter": "python",
   "pygments_lexer": "ipython3",
   "version": "3.12.4"
  }
 },
 "nbformat": 4,
 "nbformat_minor": 5
}
