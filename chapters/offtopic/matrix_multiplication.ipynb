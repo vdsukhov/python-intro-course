{
 "cells": [
  {
   "cell_type": "markdown",
   "id": "c3e0d055",
   "metadata": {},
   "source": [
    "# Matrix Multiplication\n",
    "\n",
    "In this section, I will cover matrix multiplication. My objective is to explain why the matrix multiplication $C = A \\cdot B$ uses this expression to calculate the $c_{ij}$ entry:\n",
    "\n",
    "$$\n",
    "c_{ij} = a_{i1} \\cdot b_{1j} + a_{i2} \\cdot b_{2j} + \\ldots + a_{in} \\cdot b_{nj} = \\sum\\limits_{k  = 1}^{n} a_{ik} \\cdot b_{kj},\n",
    "$$\n",
    "where $A$ is an $(m \\times n)$ matrix and $B$ is an $(n \\times p)$ matrix."
   ]
  },
  {
   "cell_type": "code",
   "execution_count": null,
   "id": "a032ae96-4654-468b-b567-d866ff131c81",
   "metadata": {},
   "outputs": [],
   "source": []
  }
 ],
 "metadata": {
  "jupytext": {
   "formats": "ipynb,md:myst"
  },
  "kernelspec": {
   "display_name": "Python 3 (ipykernel)",
   "language": "python",
   "name": "python3"
  },
  "language_info": {
   "codemirror_mode": {
    "name": "ipython",
    "version": 3
   },
   "file_extension": ".py",
   "mimetype": "text/x-python",
   "name": "python",
   "nbconvert_exporter": "python",
   "pygments_lexer": "ipython3",
   "version": "3.12.4"
  }
 },
 "nbformat": 4,
 "nbformat_minor": 5
}
