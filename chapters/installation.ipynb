{
 "cells": [
  {
   "cell_type": "markdown",
   "id": "64c4ad5a-c6df-4288-887f-cc5ccb08c213",
   "metadata": {},
   "source": [
    "# Python Installation"
   ]
  },
  {
   "cell_type": "code",
   "execution_count": null,
   "id": "69ce4d87-d844-479a-9714-ce576661bad1",
   "metadata": {},
   "outputs": [],
   "source": []
  }
 ],
 "metadata": {
  "jupytext": {
   "formats": "ipynb,md:myst"
  },
  "kernelspec": {
   "display_name": "Python 3 (ipykernel)",
   "language": "python",
   "name": "python3"
  },
  "language_info": {
   "codemirror_mode": {
    "name": "ipython",
    "version": 3
   },
   "file_extension": ".py",
   "mimetype": "text/x-python",
   "name": "python",
   "nbconvert_exporter": "python",
   "pygments_lexer": "ipython3",
   "version": "3.10.10"
  }
 },
 "nbformat": 4,
 "nbformat_minor": 5
}
