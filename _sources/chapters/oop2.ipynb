{
 "cells": [
  {
   "cell_type": "markdown",
   "id": "4a8a46c2",
   "metadata": {},
   "source": [
    "# Object-Oriented Programming: Inheritance\n",
    "\n",
    "As a quick recap, we've discovered that in Python, classes serve as blueprints, outlining both the structure and behavior of objects. Objects, in turn, are instances of these classes, embodying real-world entities.\n",
    "\n",
    "## Inheritance: superclass and subclass\n",
    "\n",
    "In this episode, our focus shifts to a powerful OOP concept—inheritance. Imagine our familiar `Car` class; today, we'll delve into how we can extend and refine its features."
   ]
  },
  {
   "cell_type": "code",
   "execution_count": null,
   "id": "a998b484-35d1-4a0b-98f6-9149886fd494",
   "metadata": {},
   "outputs": [],
   "source": [
    "class Car:\n",
    "    def __init__(self, brand, model):\n",
    "        self.brand = brand\n",
    "        self.model = model\n",
    "\n",
    "    def __str__(self):\n",
    "        return f\"Brand: {self.brand}\\nModel: {self.model}\"\n",
    "\n",
    "camry = Car(brand=\"Toyota\", model=\"Camry\")"
   ]
  },
  {
   "cell_type": "markdown",
   "id": "b1ec46fd",
   "metadata": {},
   "source": [
    "Inheritance allows us to build on existing classes. We'll explore how a new class (a subclass) can inherit attributes and methods from an existing class (a superclass). This elegant mechanism not only fosters code reuse but also establishes a hierarchy that mirrors real-world relationships."
   ]
  },
  {
   "cell_type": "code",
   "execution_count": null,
   "id": "84088d4f",
   "metadata": {},
   "outputs": [],
   "source": [
    "class ElectricCar(Car):\n",
    "    def __init__(self, brand, model, battery_level=100):\n",
    "        Car.__init__(self, brand, model)\n",
    "        self.battery_level = battery_level\n",
    "tesla_s = ElectricCar(brand=\"Tesla\", model=\"Model S\")\n",
    "\n",
    "print(tesla_s)\n"
   ]
  },
  {
   "cell_type": "markdown",
   "id": "5a886f75",
   "metadata": {},
   "source": [
    "In the example above, notice that we didn't explicitly define the `__str__` method in the subclass. Instead, we inherited it from the superclass. This illustrates a fundamental aspect of inheritance, where the subclass can acquire and use methods defined in the superclass without having to redefine them.\n",
    "\n",
    "If our superclass included additional specialized methods, the subclass would automatically have access to them as well. This underscores the efficiency of inheritance, allowing us to leverage a set of common functionalities from a superclass while maintaining the flexibility to extend or override them in the subclass.\n",
    "\n",
    "\n",
    "'d like to highlight a crucial concept: the ability to leverage the code specified in a superclass. To illustrate this, let's enhance the complexity of our superclass:"
   ]
  },
  {
   "cell_type": "code",
   "execution_count": null,
   "id": "154295f7",
   "metadata": {
    "tags": [
     "hide-output"
    ]
   },
   "outputs": [],
   "source": [
    "class Car:\n",
    "    def __init__(self, brand, model, year, color, odometer=0, doors_locked=True):\n",
    "        self.brand = brand\n",
    "        self.model = model\n",
    "        self.year = year\n",
    "        self.color = color\n",
    "        self.odometer = odometer\n",
    "        self.doors_locked = doors_locked\n",
    "    \n",
    "    def vehicle_status(self):\n",
    "        \"\"\"Prints the status of the car including all attributes.\"\"\"\n",
    "        print(f\"Car Status:\")\n",
    "        print(f\"-- Brand: {self.brand}\")\n",
    "        print(f\"-- Model: {self.model}\")\n",
    "        print(f\"-- Year: {self.year}\")\n",
    "        print(f\"-- Color: {self.color}\")\n",
    "        print(f\"-- Odometer: {self.odometer} miles\")\n",
    "        print(f\"-- Doors: {'Locked' if self.doors_locked else 'Unlocked'}\")\n",
    "\n",
    "    def unlock(self):\n",
    "        \"\"\"Unlocks the doors of the car.\"\"\"\n",
    "        if self.doors_locked:\n",
    "            print(\"Doors are now unlocked.\")\n",
    "            self.doors_locked = False\n",
    "        else:\n",
    "            print(\"Doors are already unlocked.\")\n",
    "\n",
    "    def lock(self):\n",
    "        \"\"\"Locks the doors of the car.\"\"\"\n",
    "        if not self.doors_locked:\n",
    "            print(\"Doors are now locked.\")\n",
    "            self.doors_locked = True\n",
    "        else:\n",
    "            print(\"Doors are already locked.\")"
   ]
  },
  {
   "cell_type": "markdown",
   "id": "efb35198",
   "metadata": {},
   "source": [
    "In our previous episode, we implemented the `Car` class. Now, let's revisit that and extend our exploration by creating an `ElectricCar` class, inheriting from the existing `Car` class:"
   ]
  },
  {
   "cell_type": "code",
   "execution_count": null,
   "id": "9e6f92a8",
   "metadata": {},
   "outputs": [],
   "source": [
    "class ElectricCar(Car):\n",
    "    def __init__(self, brand, model, year, color, battery_level=100, odometer=0, doors_locked=True):\n",
    "        Car.__init__(self, brand, model, year, color, odometer, doors_locked)\n",
    "        self.battery_level = battery_level\n",
    "\n",
    "tesla_s = ElectricCar(\"Tesla\", \"Model S\", 2023, \"Black\")"
   ]
  },
  {
   "cell_type": "markdown",
   "id": "a7486712",
   "metadata": {},
   "source": [
    "Now, we can make use of all the methods that we've defined in the `Car` class:"
   ]
  },
  {
   "cell_type": "code",
   "execution_count": null,
   "id": "5772ed72",
   "metadata": {},
   "outputs": [],
   "source": [
    "tesla_s.vehicle_status()\n",
    "tesla_s.unlock()\n",
    "tesla_s.vehicle_status()"
   ]
  },
  {
   "cell_type": "markdown",
   "id": "25090a76",
   "metadata": {},
   "source": [
    "Now, we have the opportunity to define specific methods exclusive to the `ElectricCar` class. These methods will be accessible only for instances of the `ElectricCar` class:"
   ]
  },
  {
   "cell_type": "code",
   "execution_count": null,
   "id": "df9a6ebd",
   "metadata": {},
   "outputs": [],
   "source": [
    "class ElectricCar(Car):\n",
    "    def __init__(self, brand, model, year, color, battery_level=100, odometer=0, doors_locked=True):\n",
    "        Car.__init__(self, brand, model, year, color, odometer, doors_locked)\n",
    "        self.battery_level = battery_level\n",
    "\n",
    "    def battery_status(self):\n",
    "        print(f\"Battery level: {self.battery_level}\")\n",
    "\n",
    "tesla_s = ElectricCar(\"Tesla\", \"Model S\", 2023, \"Black\")\n",
    "tesla_s.battery_status()"
   ]
  },
  {
   "cell_type": "markdown",
   "id": "51aafd6b",
   "metadata": {},
   "source": [
    "## Default inheritance\n",
    "\n",
    "In Python, everything is treated as an object. Let's explore this concept by creating an empty class, avoiding any manually specified methods or attributes:"
   ]
  },
  {
   "cell_type": "code",
   "execution_count": null,
   "id": "8b85c964",
   "metadata": {},
   "outputs": [],
   "source": [
    "class EmptyClass:\n",
    "    pass"
   ]
  },
  {
   "cell_type": "markdown",
   "id": "7889894a",
   "metadata": {},
   "source": [
    "In the snippet above, the `pass` keyword allows us to create a minimal class without implementing any specific functionality. \n",
    "Now, let's inspect what kind of attributes and methods are associated with an instance of our `EmptyClass`:"
   ]
  },
  {
   "cell_type": "code",
   "execution_count": null,
   "id": "a679368a",
   "metadata": {},
   "outputs": [],
   "source": [
    "obj = EmptyClass()\n",
    "print(dir(obj))"
   ]
  },
  {
   "cell_type": "markdown",
   "id": "f94eb4d5",
   "metadata": {},
   "source": [
    "Upon running this, you'll observe a myriad of names associated with our object. \n",
    "This abundance is due to the fact that, by default, any class in Python is implicitly a subclass of a superclass known as the `object` class.\n",
    "This inheritance from the `object` class provides a set of default attributes and methods to every class, contributing to the comprehensive list we see when querying the instance.\n",
    "\n",
    "## Multiple inheritance\n",
    "\n",
    "In Python, our flexibility extends beyond inheriting from just one class. \n",
    "We have the capability to utilize multiple classes as superclasses for a single subclass. \n",
    "Let's examine the following example:"
   ]
  },
  {
   "cell_type": "code",
   "execution_count": null,
   "id": "59c0bb64",
   "metadata": {},
   "outputs": [],
   "source": [
    "class Car:\n",
    "    def __init__(self, brand, model):\n",
    "        self.brand = brand\n",
    "        self.model = model\n",
    " \n",
    "        \n",
    "class Convertible(Car):\n",
    "    def __init__(self, brand, model, roof_open=False):\n",
    "        Car.__init__(self, brand, model)\n",
    "        self.roof = roof_open\n",
    "        \n",
    "    def open_roof(self):\n",
    "        if not self.roof:\n",
    "            print(\"Roof now is open\")\n",
    "            self.roof = True\n",
    "        else:\n",
    "            print(\"Roof is already open\")\n",
    "    \n",
    "    def close_roof(self):\n",
    "        if self.roof:\n",
    "            print(\"Roof now is closed\")\n",
    "            self.roof = False\n",
    "        else:\n",
    "            print(\"Roof is already closed\")\n",
    "\n",
    "class HybridCar(Car):\n",
    "    def __init__(self, brand, model, battery_level=100):\n",
    "        Car.__init__(self, brand, model)\n",
    "        self.battery_level = battery_level\n",
    "\n",
    "    def charge_battery(self):\n",
    "        print(\"Battery was charged\")\n",
    "        self.battery_level = 100\n",
    "\n",
    "class HybridConvertible(Convertible, HybridCar):\n",
    "    def __init__(self, brand, model, roof_open=False, battery_level=100):\n",
    "        # Call constructors of both parent classes\n",
    "        Convertible.__init__(self, brand, model, roof_open)\n",
    "        HybridCar.__init__(self, brand, model, battery_level)\n",
    "\n",
    "# Creating an instance of HybridConvertible\n",
    "hybrid_convertible = HybridConvertible(brand=\"Toyota\", model=\"Prius Convertible\", battery_level=50)\n",
    "print(f\"Battery Level: {hybrid_convertible.battery_level}\")\n",
    "print(f\"Current roof status: {'Open' if hybrid_convertible.roof else 'Closed'}\")\n",
    "\n",
    "# Accessing methods from both parent classes\n",
    "hybrid_convertible.open_roof()      # From Convertible class\n",
    "hybrid_convertible.charge_battery()  # From HybridCar class\n",
    "\n",
    "print(f\"Battery Level: {hybrid_convertible.battery_level}\")\n",
    "print(f\"Current roof status: {'Open' if hybrid_convertible.roof else 'Closed'}\")"
   ]
  },
  {
   "cell_type": "markdown",
   "id": "6736de9f",
   "metadata": {},
   "source": [
    "In this example:\n",
    "\n",
    "* The `Car` class represents base class.\n",
    "* The `Convertible` class inherits from `Car` and adds specific methods `open_roof` and `close_roof`.\n",
    "* The `HybridCar` class also inherits from `Car` and adds a specific method `charge_battery`.\n",
    "* The `HybridConvertible` class inherits from both `Convertible` and `HybridCar`, showcasing multiple inheritance.\n",
    "\n",
    "Instances of `HybridConvertible` can access methods from all the parent classes, demonstrating the flexibility and power of multiple inheritance.\n",
    "\n",
    "## Method Resolution Order (MRO)\n",
    "\n",
    "In Python, when we encounter multiple inheritance, it's not uncommon to have the same method names defined in different parent classes. \n",
    "This can pose a challenge: which method should be called when we invoke it on an instance of a subclass? \n",
    "To address this, Python uses the Method Resolution Order (MRO) to establish a systematic sequence for searching and determining the order in which methods are resolved.\n",
    "\n",
    "Here are the key points about the Method Resolution Order:\n",
    "\n",
    "**1. Depth-First, Left-to-Right (DRLR):**\n",
    "\n",
    "By default, Python follows a depth-first, left-to-right approach for method resolution. This means that it first looks in the current class, then in its superclass (from left to right), and continues this pattern until it finds the desired method or attribute.\n",
    "\n",
    "**2. `__mro__` attribute:**\n",
    "\n",
    "You can access the MRO of a class using the `__mro__` attribute or the `mro()` method.\n",
    "This provides a tuple representing the order in which Python searches for methods."
   ]
  },
  {
   "cell_type": "code",
   "execution_count": null,
   "id": "c1f039e2",
   "metadata": {},
   "outputs": [],
   "source": [
    "class A:\n",
    "    pass\n",
    "\n",
    "class B(A):\n",
    "    pass\n",
    "\n",
    "class C(A):\n",
    "    pass\n",
    "\n",
    "class D(B, C):\n",
    "    pass\n",
    "\n",
    "print(D.__mro__)\n"
   ]
  },
  {
   "cell_type": "markdown",
   "id": "4c589e28",
   "metadata": {},
   "source": [
    "**3. C3 Linearization Algorithm:**\n",
    "\n",
    "Python employs the C3 Linearization Algorithm to determine the MRO. \n",
    "This algorithm ensures consistency and avoids ambiguity in the order of method resolution.\n",
    "If you want to look at some details then click <a href=\"https://w.wiki/8QM2\" target=\"_blank\">here</a>.\n",
    "\n",
    "**4. Diamond Inheritance Issue:**\n",
    "\n",
    "In scenarios where there's a diamond-shaped inheritance (e.g., class D inherits from both B and C, which both inherit from A), the MRO prevents ambiguity by following the DRLR approach."
   ]
  },
  {
   "cell_type": "code",
   "execution_count": null,
   "id": "f2f5b71e",
   "metadata": {},
   "outputs": [],
   "source": [
    "class A:\n",
    "    def method(self):\n",
    "        print(\"A method\")\n",
    "\n",
    "class B(A):\n",
    "    def method(self):\n",
    "        print(\"B method\")\n",
    "\n",
    "class C(A):\n",
    "    def method(self):\n",
    "        print(\"C method\")\n",
    "\n",
    "class D(B, C):\n",
    "    pass\n",
    "\n",
    "instance_d = D()\n",
    "instance_d.method()  # Outputs \"B method\" due to the MRO\n"
   ]
  },
  {
   "cell_type": "markdown",
   "id": "49e819d2",
   "metadata": {},
   "source": [
    "In this example, the MRO ensures that the method from class B takes precedence over the method from class C.\n",
    "\n",
    "\n",
    "```{note}\n",
    "Understanding the Method Resolution Order is crucial, especially in complex class hierarchies involving multiple inheritance, as it helps predict which method or attribute will be accessed when called on an instance of a class.\n",
    "```\n",
    "\n",
    "\n",
    "## `super()` method\n",
    "\n",
    "The `super()` method in Python is used to call a method from a parent or superclass. It is often employed within the context of inheritance, where a subclass wants to invoke a method that is defined in its superclass. Here's a breakdown of the `super()` method:\n",
    "\n",
    "**Usage in the `__init__` Method:**\n",
    "\n",
    "A common use case is within the `__init__` method of a subclass. This allows the subclass to initialize its own attributes and then call the `__init__` method of the superclass to handle its specific initialization."
   ]
  },
  {
   "cell_type": "code",
   "execution_count": null,
   "id": "8ad1a91b",
   "metadata": {},
   "outputs": [],
   "source": [
    "class Parent:\n",
    "    def __init__(self, name):\n",
    "        self.name = name\n",
    "\n",
    "class Child(Parent):\n",
    "    def __init__(self, name, additional_info):\n",
    "        super().__init__(name)\n",
    "        self.additional_info = additional_info\n"
   ]
  },
  {
   "cell_type": "markdown",
   "id": "08b85d84",
   "metadata": {},
   "source": [
    "In this example, `super().__init__(name)` calls the `__init__` method of the `Parent` class, allowing the `Child` class to inherit the name attribute.\n",
    "\n",
    "**Passing Arguments:**\n",
    "\n",
    "You use `super()` without arguments when you're working within a class and Python dynamically figures out the appropriate superclass to call. \n",
    "If you need to be more explicit, you can pass the class and instance explicitly to `super()`."
   ]
  },
  {
   "cell_type": "code",
   "execution_count": null,
   "id": "14875b2e",
   "metadata": {},
   "outputs": [],
   "source": [
    "class Parent:\n",
    "    def some_method(self):\n",
    "        print(\"Parent method\")\n",
    "\n",
    "class Child(Parent):\n",
    "    def some_method(self):\n",
    "        super().some_method()\n",
    "        print(\"Child method\")\n"
   ]
  },
  {
   "cell_type": "markdown",
   "id": "4fd1dfba",
   "metadata": {},
   "source": [
    "In this example, `super().some_method()` calls the `some_method` of the `Parent` class, allowing the `Child` class to extend or override the behavior.\n",
    "\n",
    "**Multiple Inheritance:**\n",
    "\n",
    "`super()` is particularly useful in multiple inheritance scenarios, where a class inherits from more than one superclass. \n",
    "It ensures that methods are called in the correct order in the inheritance chain."
   ]
  },
  {
   "cell_type": "code",
   "execution_count": null,
   "id": "35ece63f",
   "metadata": {},
   "outputs": [],
   "source": [
    "class A:\n",
    "    def some_method(self):\n",
    "        print(\"A method\")\n",
    "\n",
    "class B(A):\n",
    "    def some_method(self):\n",
    "        print(\"B method\")\n",
    "        super().some_method()\n",
    "\n",
    "class C(A):\n",
    "    def some_method(self):\n",
    "        print(\"C method\")\n",
    "        super().some_method()\n",
    "\n",
    "class D(B, C):\n",
    "    pass\n",
    "\n",
    "instance_d = D()\n",
    "instance_d.some_method()\n"
   ]
  },
  {
   "cell_type": "markdown",
   "id": "470afe59",
   "metadata": {},
   "source": [
    "Here, `super().some_method()` ensures that the method is called from the next class in the method resolution order (MRO).\n",
    "\n",
    "```{note}\n",
    "The `super()` method is a powerful tool for maintaining a clean and consistent structure in code that involves inheritance. It fosters code reuse and supports the principles of modularity and extensibility in object-oriented programming.\n",
    "```\n",
    "\n",
    "## `isinstance` function\n",
    "\n",
    "The isinstance() method in Python is used to check whether an object is an instance of a particular class or a tuple of classes. It returns `True` if the object is an instance of any of the specified classes; otherwise, it returns `False`. Let's use our `Car` class as an example:"
   ]
  },
  {
   "cell_type": "code",
   "execution_count": null,
   "id": "2658c212",
   "metadata": {},
   "outputs": [],
   "source": [
    "class Car:\n",
    "    def __init__(self, brand, model):\n",
    "        self.brand = brand\n",
    "        self.model = model\n",
    "\n",
    "class ElectricCar(Car):\n",
    "    def __init__(self, brand, model, battery_capacity):\n",
    "        super().__init__(brand, model)\n",
    "        self.battery_capacity = battery_capacity\n",
    "\n",
    "# Creating instances of Car and ElectricCar\n",
    "regular_car = Car(brand=\"Toyota\", model=\"Camry\")\n",
    "electric_car = ElectricCar(brand=\"Tesla\", model=\"Model S\", battery_capacity=100)\n",
    "\n",
    "# Using isinstance to check object types\n",
    "print(isinstance(regular_car, Car))          # True\n",
    "print(isinstance(regular_car, ElectricCar))  # False\n",
    "\n",
    "print(isinstance(electric_car, Car))         # True\n",
    "print(isinstance(electric_car, ElectricCar)) # True\n"
   ]
  },
  {
   "cell_type": "markdown",
   "id": "b3b0ec6a",
   "metadata": {},
   "source": [
    "In this example:\n",
    "\n",
    "* `isinstance(regular_car, Car)` checks if `regular_car` is an instance of the `Car` class, which is true.\n",
    "* `isinstance(regular_car, ElectricCar)` checks if `regular_car` is an instance of the `ElectricCar` class, which is false.\n",
    "* `isinstance(electric_car, Car)` checks if `electric_car` is an instance of the `Car` class, which is true because `ElectricCar` is a subclass of `Car`.\n",
    "* `isinstance(electric_car, ElectricCar)` checks if `electric_car` is an instance of the `ElectricCar` class, which is true.\n",
    "\n",
    "This method is useful for checking the type of an object before performing certain operations, especially in scenarios involving inheritance and polymorphism.\n",
    "\n",
    "\n",
    "### `type` vs `isinstance`\n",
    "\n",
    "The `type()` and `isinstance()` functions in Python are used to determine the type or class of an object, but they differ in their use cases.\n",
    "The `type()` function is used to get the type of an object. It returns the type as a class object."
   ]
  },
  {
   "cell_type": "code",
   "execution_count": null,
   "id": "8126cff8",
   "metadata": {},
   "outputs": [],
   "source": [
    "print(type(electric_car))"
   ]
  },
  {
   "cell_type": "markdown",
   "id": "70e385e7",
   "metadata": {},
   "source": [
    "It can also be used to compare the type of an object with a specific type."
   ]
  },
  {
   "cell_type": "code",
   "execution_count": null,
   "id": "4332aa91",
   "metadata": {},
   "outputs": [],
   "source": [
    "print(type(electric_car) == ElectricCar)  # True\n",
    "print(type(electric_car) == Car)  # False"
   ]
  },
  {
   "cell_type": "markdown",
   "id": "4188f258",
   "metadata": {},
   "source": [
    "However, using `type()` for checking types in the context of inheritance can be less flexible, especially when dealing with subclasses.\n",
    "\n",
    "In summary, while both `type()` and `isinstance()` can be used to check the type of an object, `type()` is more straightforward and is mainly used for direct type checking, whereas `isinstance()` is more versatile, considering inheritance relationships and often used in scenarios involving polymorphism and class hierarchies.\n",
    "\n",
    "\n",
    "## `issubclass` function\n",
    "\n",
    "The `issubclass()` function in Python is used to check if a class is a subclass of another class. \n",
    "It returns `True` if the first class is a subclass of the second class, and `False` otherwise. Here's an explanation:"
   ]
  },
  {
   "cell_type": "code",
   "execution_count": null,
   "id": "54604ba0",
   "metadata": {},
   "outputs": [],
   "source": [
    "class Vehicle:\n",
    "    pass\n",
    "\n",
    "class Car(Vehicle):\n",
    "    pass\n",
    "\n",
    "class ElectricCar(Car):\n",
    "    pass\n",
    "\n",
    "# Using issubclass to check class relationships\n",
    "print(issubclass(Car, Vehicle))          # True\n",
    "print(issubclass(ElectricCar, Car))      # True\n",
    "print(issubclass(ElectricCar, Vehicle))  # True\n",
    "print(issubclass(Vehicle, Car))          # False"
   ]
  },
  {
   "cell_type": "markdown",
   "id": "0f965981",
   "metadata": {},
   "source": [
    "In this example:\n",
    "\n",
    "* `issubclass(Car, Vehicle)` checks if `Car` is a subclass of `Vehicle`, which is true.\n",
    "* `issubclass(ElectricCar, Car)` checks if `ElectricCar` is a subclass of `Car`, which is true.\n",
    "* `issubclass(ElectricCar, Vehicle)` checks if `ElectricCar` is a subclass of `Vehicle`, which is true because it indirectly inherits from `Vehicle` through `Car`.\n",
    "* `issubclass(Vehicle, Car)` checks if `Vehicle` is a subclass of `Car`, which is false.\n",
    "\n",
    "```{note}\n",
    "The `issubclass()` function is particularly useful when dealing with class hierarchies and inheritance. It allows you to check the relationship between two classes and determine whether one is derived from another. This function is often used in scenarios where you need to ensure the compatibility or hierarchy of classes in your code.\n",
    "```"
   ]
  }
 ],
 "metadata": {
  "jupytext": {
   "formats": "ipynb,md:myst"
  },
  "kernelspec": {
   "display_name": "Python 3 (ipykernel)",
   "language": "python",
   "name": "python3"
  },
  "language_info": {
   "codemirror_mode": {
    "name": "ipython",
    "version": 3
   },
   "file_extension": ".py",
   "mimetype": "text/x-python",
   "name": "python",
   "nbconvert_exporter": "python",
   "pygments_lexer": "ipython3",
   "version": "3.12.4"
  }
 },
 "nbformat": 4,
 "nbformat_minor": 5
}
