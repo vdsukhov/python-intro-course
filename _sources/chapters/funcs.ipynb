{
 "cells": [
  {
   "cell_type": "markdown",
   "id": "ba332b5e",
   "metadata": {},
   "source": [
    "# Functions\n",
    "\n",
    "## Function Definition\n",
    "\n",
    "Functions are the workhorses of Python and many other programming languages. \n",
    "They are like versatile tools in a programmer's toolbox, allowing you to encapsulate a set of instructions and give them a name. \n",
    "Functions play a pivotal role in making code organized, reusable, and easier to understand. \n",
    "Their importance cannot be overstated, as they enable you to break down complex tasks into manageable chunks, making your code more modular and maintainable. \n",
    "Key features of functions include the ability to accept input, perform specific operations, and return results. \n",
    "This versatility, along with the power to create your functions, empowers programmers to tackle a wide range of problems with elegance and efficiency.\n",
    "\n",
    "<video autoplay loop playsinline controls muted>\n",
    "    <source src=\"../_static/videos/function_concept.mp4\" type=\"video/mp4\">\n",
    "</video>\n",
    "\n",
    "In our previous explorations, we've already encountered some of Python's built-in functions like `print()`, `len()`, and `type()`, which have been important for various tasks. \n",
    "Today, we're taking the next step in our journey by delving into the art of crafting our own functions. \n",
    "We'll learn how to create custom functions for our specific needs, allowing us to open the full creative power of Python in solving problems and simplifying complex tasks. \n",
    "So, let's embark on this exciting journey of writing our very own Python functions!"
   ]
  },
  {
   "cell_type": "code",
   "execution_count": null,
   "id": "aeab4910-6a49-4a41-a325-1afb531595ed",
   "metadata": {},
   "outputs": [],
   "source": [
    "def greeting(name):\n",
    "    result = \"Hello, \" + name + \"!\"\n",
    "    return result"
   ]
  },
  {
   "cell_type": "markdown",
   "id": "a7351687",
   "metadata": {},
   "source": [
    "Here, we made our very first function. We started by using the `def` keyword to tell Python that we're creating a function. Then, we gave our function a name, which is `greeting` in this case. Inside the brackets, we put things that our function needs to work with. After that, we wrote the actual instructions for the function after a colon. Inside those instructions, we used the `return` word to say what the function will give back as the result.\n",
    "\n",
    "<video autoplay loop playsinline controls muted>\n",
    "    <source src=\"../_static/videos/function_definition.mp4\" type=\"video/mp4\">\n",
    "</video>\n",
    "\n",
    "Now, we can use our function with different inputs, and we don't have to rewrite the instructions inside the function every time we want to do that action. It's like having a magic tool that can do the same thing with different stuff without us having to start from scratch each time:"
   ]
  },
  {
   "cell_type": "code",
   "execution_count": null,
   "id": "e21b0829",
   "metadata": {},
   "outputs": [],
   "source": [
    "print(greeting(\"Vladimir\"))\n",
    "\n",
    "# also we can assign result to some variable\n",
    "line = greeting(\"Alice\")\n",
    "print(\"line:\", line)"
   ]
  },
  {
   "cell_type": "markdown",
   "id": "b357d8ae",
   "metadata": {},
   "source": [
    "```{note}\n",
    "Defining a function in programming is a bit like creating your own recipe in the kitchen. You gather specific ingredients (input), follow a series of steps (instructions), and then you have a dish (output). Once you've perfected your recipe (function), you can use it anytime to cook that delicious meal (solve a specific task) without having to start from scratch each time. It's your customized, reusable cooking method, just as functions are custom, reusable sets of instructions in coding.\n",
    "```\n",
    "\n",
    "## Docstring\n",
    "\n",
    "Python has a special built-in function called `help`. It's like an information guide for Python functions. With `help`, you can find out what different functions do without having to dig into their inner workings. For instance, you can use `help` to learn about the `print` function. It's a bit like getting a manual that explains how something works!"
   ]
  },
  {
   "cell_type": "code",
   "execution_count": null,
   "id": "d62870b9",
   "metadata": {
    "tags": [
     "hide-output"
    ]
   },
   "outputs": [],
   "source": [
    "help(print)"
   ]
  },
  {
   "cell_type": "markdown",
   "id": "4d56c997",
   "metadata": {},
   "source": [
    "But if we try to use `help` with our `greeting` function, we won't get helpful information. It's like looking for answers in a book that has no useful information about our specific topic."
   ]
  },
  {
   "cell_type": "code",
   "execution_count": null,
   "id": "e31a305b",
   "metadata": {
    "tags": [
     "hide-output"
    ]
   },
   "outputs": [],
   "source": [
    "help(greeting)"
   ]
  },
  {
   "cell_type": "markdown",
   "id": "08282bb6",
   "metadata": {},
   "source": [
    "To add information about our function, we can use something called a \"docstring.\" This is just a special string that we put at the beginning of our function. Let's see an example:"
   ]
  },
  {
   "cell_type": "code",
   "execution_count": null,
   "id": "92c7472b",
   "metadata": {
    "tags": [
     "hide-output"
    ]
   },
   "outputs": [],
   "source": [
    "def greeting(name):\n",
    "    \"\"\"\n",
    "    This function creates a greeting message for the given name.\n",
    "\n",
    "    Parameters:\n",
    "    - name (str): A string representing the name.\n",
    "\n",
    "    Returns:\n",
    "    str: A string containing the personalized greeting.\n",
    "    \"\"\"\n",
    "    result = \"Hello, \" + name + \"!\"\n",
    "    return result\n",
    "    \n",
    "help(greeting)"
   ]
  },
  {
   "cell_type": "markdown",
   "id": "e8a2a492",
   "metadata": {},
   "source": [
    "Writing docstrings for functions is essential for several reasons. First, it serves as documentation, making it easier for other programmers (and your future self) to understand how the function works and how to use it correctly. Second, it provides clarity on the expected input and output, reducing the chances of errors and misunderstandings. Additionally, docstrings facilitate code maintenance and collaboration, as they act as a reference point for anyone working with the code. Lastly, it promotes good coding practices, making your codebase more professional and accessible to a wider audience.\n",
    "\n",
    "## Function arguments\n",
    "Now let's take a closer look at function arguments. In general, you can specify an arbitrary number of arguments. Let's look at a couple of examples:"
   ]
  },
  {
   "cell_type": "code",
   "execution_count": null,
   "id": "b789a6a2",
   "metadata": {
    "tags": [
     "hide-output"
    ]
   },
   "outputs": [],
   "source": [
    "def pi_constant():\n",
    "    return 3.1415926535897932\n",
    "\n",
    "def custom_sum(a, b):\n",
    "    return a + b"
   ]
  },
  {
   "cell_type": "markdown",
   "id": "2664eac2",
   "metadata": {},
   "source": [
    "If your function requires a specific number of values, you must specify those values during the function call. Otherwise, you will encounter an error:"
   ]
  },
  {
   "cell_type": "code",
   "execution_count": null,
   "id": "140dc82f",
   "metadata": {
    "tags": [
     "hide-output"
    ]
   },
   "outputs": [],
   "source": [
    "print(custom_sum(1, 3))"
   ]
  },
  {
   "cell_type": "markdown",
   "id": "d3a7a1c6",
   "metadata": {},
   "source": [
    "But in case you provide a fewer number of arguments:\n",
    "```python\n",
    "print(custom_sum(1))\n",
    "```\n",
    "you will get an error:\n",
    "```python\n",
    "TypeError: custom_sum() missing 1 required positional argument: 'b'\n",
    "```\n",
    "\n",
    "Python assigns values to function arguments based on their positions. Let's clarify this with an example:"
   ]
  },
  {
   "cell_type": "code",
   "execution_count": null,
   "id": "7c86d472",
   "metadata": {
    "tags": [
     "hide-output"
    ]
   },
   "outputs": [],
   "source": [
    "def custom_division(a, b):\n",
    "    return a / b\n",
    "\n",
    "print(custom_division(1, 2))"
   ]
  },
  {
   "cell_type": "markdown",
   "id": "4e5d6700",
   "metadata": {},
   "source": [
    "In this example, Python assigns the value `1` to `a` and the value `2` to `b`.\n",
    "\n",
    "However, if you want to specify `b` first and then `a`, you can call the function by mentioning the argument names like this:"
   ]
  },
  {
   "cell_type": "code",
   "execution_count": null,
   "id": "f524f922",
   "metadata": {
    "tags": [
     "hide-output"
    ]
   },
   "outputs": [],
   "source": [
    "print(custom_division(b = 1, a = 2))"
   ]
  },
  {
   "cell_type": "markdown",
   "id": "3d60239f",
   "metadata": {},
   "source": [
    "In Python, we call this a \"Keyword Argument\" or \"named argument.\" It gives you more control over the order of arguments.\n",
    "\n",
    "## Default Arguments\n",
    "Default arguments in Python allow you to assign a default value to a function parameter. If a value is not provided when the function is called, the default value is used instead. This is particularly useful when you want to make a function more flexible and provide a sensible default behavior.\n",
    "\n",
    "Here's an example:"
   ]
  },
  {
   "cell_type": "code",
   "execution_count": null,
   "id": "1a9ea8ef",
   "metadata": {
    "tags": [
     "hide-output"
    ]
   },
   "outputs": [],
   "source": [
    "def greet(name, message=\"Hello\"):\n",
    "    result = message + \" \" + name\n",
    "    return result\n",
    "\n",
    "# Calling the function with both name and message\n",
    "print(greet(\"Alice\", \"Hi\"))\n",
    "\n",
    "# Calling the function with only name (uses the default message)\n",
    "print(greet(\"Bob\"))"
   ]
  },
  {
   "cell_type": "markdown",
   "id": "73d22389",
   "metadata": {},
   "source": [
    "In this example, we defined a function `greet` with two parameters: `name` and `message`. The `message` parameter has a default value of `\"Hello\"`. When we call the function with both `name` and `message`, it uses the provided values. However, if we call the function with just `name`, it uses the default message, `\"Hello\"`.\n",
    "\n",
    "Default arguments are a powerful way to make functions more versatile while providing sensible fallback values when needed.\n",
    "\n",
    "````{warning}\n",
    "Using mutable objects as default arguments in Python is not recommended because it can lead to unexpected behavior. When you modify a mutable default argument within a function, those modifications persist across function calls. It's better to use immutable objects as default arguments. If you need a mutable object, create it within the function to ensure a clean slate with each call. This practice avoids unexpected side effects and makes your code more predictable.\n",
    "\n",
    "Try to execute the following example:\n",
    "```\n",
    "def add_item(item, my_list=[]):\n",
    "    my_list.append(item)\n",
    "    return my_list\n",
    "\n",
    "result1 = add_item(\"apple\")\n",
    "result2 = add_item(\"banana\")\n",
    "\n",
    "print(result1)  # Output: ['apple', 'banana']\n",
    "```\n",
    "````\n",
    "\n",
    "## Arbitrary Number of Arguments\n",
    "\n",
    "In situations where we don't know in advance how many arguments will be passed to a function, Python offers a solution. \n",
    "Let's consider an example where we want to find the minimum value among given arguments. Initially, we create a simple function for two arguments:"
   ]
  },
  {
   "cell_type": "code",
   "execution_count": null,
   "id": "a16faf78",
   "metadata": {
    "tags": [
     "hide-output"
    ]
   },
   "outputs": [],
   "source": [
    "def custom_min(a, b):\n",
    "    return b if a >= b else a\n",
    "\n",
    "print(custom_min(10, 5))"
   ]
  },
  {
   "cell_type": "markdown",
   "id": "b6bc62e7",
   "metadata": {},
   "source": [
    "Now, suppose we want to handle an arbitrary number of arguments (at least two). In this scenario, we can use a specific Python syntax that allows us to gather all arguments into one variable stored as a tuple. Here's an example:"
   ]
  },
  {
   "cell_type": "code",
   "execution_count": null,
   "id": "5db8ed1f",
   "metadata": {
    "tags": [
     "hide-output"
    ]
   },
   "outputs": [],
   "source": [
    "def custom_min(a, b, *args):\n",
    "    res = b if a >= b else a\n",
    "    for elem in args:\n",
    "        res = res if elem >= res else elem\n",
    "    return res\n",
    "\n",
    "print(custom_min(10, 5, 1))\n",
    "print(custom_min(10, 5, 1, 100, 0, -10))"
   ]
  },
  {
   "cell_type": "markdown",
   "id": "121ff59e",
   "metadata": {},
   "source": [
    "In this code, we employ the `*args` syntax, which lets us collect all extra arguments into a variable named args. \n",
    "This flexibility allows us to work with any number of arguments while maintaining code simplicity and clarity.\n",
    "\n",
    "```{note}\n",
    "Instead of using the name `args`, you can also use another name such as `arguments`.\n",
    "```\n",
    "\n",
    "You can find more specific details regarding Python function arguments, including rules about their order in both function definition and calls. \n",
    "For in-depth information, you can explore this [source](https://docs.python.org/3/tutorial/controlflow.html#more-on-defining-functions). \n",
    "Additionally, I highly recommend you to read about `**kwargs` for a deeper understanding of handling keyword arguments in Python. \n",
    "It's a powerful feature that can enhance your code's flexibility and readability.\n",
    "\n",
    "\n",
    "## Arguments unpacking\n",
    "\n",
    "Argument unpacking during a function call in Python allows you to pass a sequence (like a list or tuple) as arguments to a function. \n",
    "This is particularly useful when you want to pass multiple values from a sequence as individual arguments to a function. \n",
    "Python provides two ways to achieve this:\n",
    "\n",
    "**Unpacking with `*` (Asterisk):**\n",
    "\n",
    "You can use the `*` operator before a sequence to unpack its elements and pass them as separate arguments to a function. Here's how it works:"
   ]
  },
  {
   "cell_type": "code",
   "execution_count": null,
   "id": "6811088b",
   "metadata": {
    "tags": [
     "hide-output"
    ]
   },
   "outputs": [],
   "source": [
    "def add(a, b, c):\n",
    "    return a + b + c\n",
    "\n",
    "values = [1, 2, 3]\n",
    "result = add(*values)\n",
    "print(result)"
   ]
  },
  {
   "cell_type": "markdown",
   "id": "03fc72cd",
   "metadata": {},
   "source": [
    "In this example, `*values` unpacks the elements from the values list and passes them as separate arguments to the add function.\n",
    "\n",
    "**Unpacking with `**` (Double Asterisk):**\n",
    "\n",
    "For dictionaries, you can use the `**` operator to unpack key-value pairs as keyword arguments to a function. Here's an example:"
   ]
  },
  {
   "cell_type": "code",
   "execution_count": null,
   "id": "f3560e48",
   "metadata": {
    "tags": [
     "hide-output"
    ]
   },
   "outputs": [],
   "source": [
    "def greet(name, age):\n",
    "    return f\"Hello, {name}! You are {age} years old.\"\n",
    "\n",
    "person = {\"name\": \"Alice\", \"age\": 30}\n",
    "result = greet(**person)\n",
    "print(result)"
   ]
  },
  {
   "cell_type": "markdown",
   "id": "4741b4a6",
   "metadata": {},
   "source": [
    "Here, `**person` unpacks the key-value pairs in the person dictionary and passes them as keyword arguments to the greet function.\n",
    "Also, in these examples, we used the fstring for the first time. This allows us to format our strings in a very nice way. You can read more information about them [here](https://realpython.com/python-f-strings/).\n",
    "\n",
    "---\n",
    "\n",
    "Argument unpacking is handy when you have data stored in lists, tuples, or dictionaries and want to pass that data as arguments to a function without manually extracting and passing each value. It makes your code more concise and readable, especially when working with functions that require a specific number of arguments or keyword arguments.\n",
    "\n",
    "## `return` statement\n",
    "\n",
    "In our functions, it's important to understand that we may or may not include a return statement. \n",
    "We've previously encountered various examples with explicit `return` statements. \n",
    "Now, let's explore what happens when we don't specify a `return` statement explicitly."
   ]
  },
  {
   "cell_type": "code",
   "execution_count": null,
   "id": "bddd39f8",
   "metadata": {
    "tags": [
     "hide-output"
    ]
   },
   "outputs": [],
   "source": [
    "def custom_sum(a, b):\n",
    "    result = a + b\n",
    "\n",
    "print(custom_sum(0, 5))"
   ]
  },
  {
   "cell_type": "markdown",
   "id": "b8048e50",
   "metadata": {},
   "source": [
    "As you can observe, when a function lacks an explicit `return` statement, Python automatically returns a specific object, which is `None`. This is the default behavior when no return statement is provided.\n",
    "`None` is a special data type in Python. `None` means nothing. In order to check that something is `None` use the `is` operator\n",
    "\n",
    "```{note}\n",
    "The `return` statement also denotes that the function has ended. Any code after return is not executed.\n",
    "```\n",
    "\n",
    "## Recursion\n",
    "Recursion is a programming concept where a function calls itself to solve a problem. It's like a \"function loop\" where the function keeps calling itself until it reaches a specific condition to stop.\n",
    "\n",
    "Key elements of recursion:\n",
    "\n",
    "- **Base case:** Every recursive function needs a base case, which is a condition that tells the function when to stop calling itself. Without a base case, the function would keep calling itslef infinitely.\n",
    "- **Recursive call:** In a recursion function, there's a part where it calls itself with a slighlty simpler version of the problem. This is essential for making progress towards the base case.\n",
    "\n",
    "Let's take a look on example of calculating the factorial."
   ]
  },
  {
   "cell_type": "code",
   "execution_count": null,
   "id": "eb61ab39",
   "metadata": {
    "tags": [
     "hide-output"
    ]
   },
   "outputs": [],
   "source": [
    "def factorial(n):\n",
    "    if n == 1:\n",
    "        return 1\n",
    "    return n * factorial(n - 1)"
   ]
  },
  {
   "cell_type": "markdown",
   "id": "e90e2bd2",
   "metadata": {},
   "source": [
    "In this example the base case is when `n` equals 1. At that point, we return 1 because the factorial of 1 is 1.\n",
    "In the recursive call, the function calculates `n` times the factorial of `n-1`. It keeps calling itself with a smaller value until it reaches the base case.\n",
    "\n",
    "**How Recursion Works:**\n",
    "\n",
    "- You call the factorial function with a number, e.g., `factorial(5)`.\n",
    "- Inside the function, it checks if `n` is 1. If not, it calculates `n * factorial(n-1)`.\n",
    "- The function calls itself with `n-1`, which is `factorial(4)`.\n",
    "- This process continues until `n` becomes 1. Then, it starts returning values to calculate the final result.\n",
    "So, in `factorial(5)`, it calculates 5 * 4 * 3 * 2 * 1 and returns the result, which is 120.\n",
    "Recursion can be a powerful and elegant way to solve certain problems, but it's essential to have a clear base case and ensure that the function converges towards it to avoid infinite recursion.\n",
    "\n",
    "<video autoplay loop playsinline controls muted>\n",
    "    <source src=\"../_static/videos/function_recursion.mp4\" type=\"video/mp4\">\n",
    "</video>"
   ]
  }
 ],
 "metadata": {
  "jupytext": {
   "formats": "ipynb,md:myst"
  },
  "kernelspec": {
   "display_name": "Python 3 (ipykernel)",
   "language": "python",
   "name": "python3"
  },
  "language_info": {
   "codemirror_mode": {
    "name": "ipython",
    "version": 3
   },
   "file_extension": ".py",
   "mimetype": "text/x-python",
   "name": "python",
   "nbconvert_exporter": "python",
   "pygments_lexer": "ipython3",
   "version": "3.12.4"
  }
 },
 "nbformat": 4,
 "nbformat_minor": 5
}
