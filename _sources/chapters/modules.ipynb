{
 "cells": [
  {
   "cell_type": "markdown",
   "id": "118dc1ea",
   "metadata": {},
   "source": [
    "# Modules and Packages\n",
    "\n",
    "In this episode, we will dive into the world of Python modules and packages.\n",
    "If you are new to Python or looking to organize your code better, you're in the right place.\n",
    "We will break down modules and packages using simple examples. Let's start.\n",
    "\n",
    "## Modules\n",
    "In Python, a module is like a file that contains Python code. It can be functions, variables, or classes.\n",
    "Modules help you organize your code and make it reusable.\n",
    "Let's create a simple module.\n",
    "To do that let's create the separate folder and file with following name `math_module.py`.\n",
    "Here is the structure of our directory:\n",
    "```bash\n",
    "❯ tree module_example/\n",
    "module_example/\n",
    "└── math_module.py\n",
    "```\n",
    "Now let's specify some relative code inside of our module (`math_module.py`):"
   ]
  },
  {
   "cell_type": "code",
   "execution_count": null,
   "id": "0930e817-85a9-498f-9ff6-4fda2bed8b54",
   "metadata": {},
   "outputs": [],
   "source": [
    "def gcd(a, b):\n",
    "    if b == 0:\n",
    "        return a\n",
    "    return gcd(b, a % b)\n",
    "\n",
    "def absolute_value(a):\n",
    "    return a if a >= 0 else -a\n",
    "\n",
    "def factorial(a):\n",
    "    if a == 0:\n",
    "        return 1\n",
    "    return a * factorial(a - 1)\n",
    "\n",
    "e = 2.718281828459045090795598298427648842334747314453125\n",
    "pi = 3.141592653589793115997963468544185161590576171875"
   ]
  },
  {
   "cell_type": "markdown",
   "id": "72cb6f4d",
   "metadata": {},
   "source": [
    "Here, we have created our first module.\n",
    "\n",
    "Now, we can use our functions in other Python files. Let's create another file named `usage.py`.\n",
    "The current directory structure is as follows:\n",
    "```bash\n",
    "❯ tree module_example/\n",
    "module_example/\n",
    "├── math_module.py\n",
    "└── usage.py\n",
    "```\n",
    "\n",
    "The `usage.py` file:"
   ]
  },
  {
   "cell_type": "code",
   "execution_count": null,
   "id": "293634f9",
   "metadata": {
    "tags": [
     "hide-output"
    ]
   },
   "outputs": [],
   "source": [
    "import math_module\n",
    "\n",
    "a = 10\n",
    "b = 5\n",
    "\n",
    "print(math_module.gcd(a, b))\n",
    "print(math_module.factorial(a))\n",
    "print(math_module.e)\n",
    "print(math_module.pi)"
   ]
  },
  {
   "cell_type": "markdown",
   "id": "1b1eaa12",
   "metadata": {},
   "source": [
    "Now, we can access all objects from the `math_module.py` file using the following syntax: `import math_module`. After importing, we can access the objects by specifying the module name followed by a dot and the name of the object we want to access. For example, `math_module.gcd(a, b)` is a call to the gcd function.\n",
    "\n",
    "\n",
    "## Module import\n",
    "\n",
    "The `import` statement in Python is used to bring external code into your program. There are several ways to use the `import` syntax, each with its own purpose. Here are the different ways to use import:\n",
    "\n",
    "#### Importing a module:\n",
    "The simplest use of import is to import an entire module. This makes all functions, variables, and classes from that module available in your code. (Examples we saw previously)\n",
    "\n",
    "#### Renaming a module:\n",
    "You can give an imported module an alias to make it easier to reference in your code. This is especially useful when dealing with modules with long names."
   ]
  },
  {
   "cell_type": "code",
   "execution_count": null,
   "id": "11913aa9",
   "metadata": {
    "tags": [
     "hide-output"
    ]
   },
   "outputs": [],
   "source": [
    "import math_module as mm\n",
    "\n",
    "a = 10\n",
    "b = 5\n",
    "\n",
    "print(mm.gcd(a, b))"
   ]
  },
  {
   "cell_type": "markdown",
   "id": "e79d7326",
   "metadata": {},
   "source": [
    "#### Importing Specific Functions or Variables:\n",
    "Sometimes, you only need specific functions or variables from a module. You can import them individually."
   ]
  },
  {
   "cell_type": "code",
   "execution_count": null,
   "id": "e475e60a",
   "metadata": {
    "tags": [
     "hide-output"
    ]
   },
   "outputs": [],
   "source": [
    "from math_module import gcd\n",
    "\n",
    "a = 10\n",
    "b = 5\n",
    "\n",
    "print(gcd(a, b))"
   ]
  },
  {
   "cell_type": "markdown",
   "id": "7eebfd10",
   "metadata": {},
   "source": [
    "#### Importing Everything from a Module:\n",
    "\n",
    "You can import everything from a module and use its functions, variables, and classes directly without the module name prefix. However, this approach is generally discouraged as it can lead to naming conflicts."
   ]
  },
  {
   "cell_type": "code",
   "execution_count": null,
   "id": "e6e689f4",
   "metadata": {
    "tags": [
     "hide-output"
    ]
   },
   "outputs": [],
   "source": [
    "from math_module import *\n",
    "\n",
    "print(e)\n",
    "print(pi)"
   ]
  },
  {
   "cell_type": "markdown",
   "id": "df3927c0",
   "metadata": {},
   "source": [
    "#### Importing a Specific Function or Variable with an Alias:\n",
    "You can combine aliasing and importing specific functions or variables for a more concise reference."
   ]
  },
  {
   "cell_type": "code",
   "execution_count": null,
   "id": "a2ebc785",
   "metadata": {
    "tags": [
     "hide-output"
    ]
   },
   "outputs": [],
   "source": [
    "from math_module import factorial as f\n",
    "\n",
    "print(f(10))"
   ]
  },
  {
   "cell_type": "markdown",
   "id": "64bc5be8",
   "metadata": {},
   "source": [
    "## `__name__`\n",
    "Now we understand that we can consider each Python file as a module.\n",
    "Before running a program, the Python interpreter assigns the name of the Python module to a special variable called `__name__`.\n",
    "The value assigned to `__name__` depends on whether you run the program from the command line or import the module into another module.\n",
    "If you run your module as a script, like this:\n",
    "\n",
    "```bash\n",
    "python program.py\n",
    "```\n",
    "\n",
    "then the Python interpreter will automatically set the value of `__name__` to the string `\"__main__\"`.\n",
    "\n",
    "To check it let's fill the `program.py` file with following code:"
   ]
  },
  {
   "cell_type": "code",
   "execution_count": null,
   "id": "0f58f9d5",
   "metadata": {
    "tags": [
     "hide-output"
    ]
   },
   "outputs": [],
   "source": [
    "print(__name__)"
   ]
  },
  {
   "cell_type": "markdown",
   "id": "a1bfdd12",
   "metadata": {},
   "source": [
    "As you can see, we have access to the `__name__` variable inside our program. When running the program from the command line, the value of this variable is `\"__main__\"`. \n",
    "\n",
    "However, if your module is imported in another module, the value will be different. \n",
    "Let's use our `math_module.py` module as an example again, but this time let's rewrite the `usage.py` as follows:"
   ]
  },
  {
   "cell_type": "code",
   "execution_count": null,
   "id": "26bdd9fb",
   "metadata": {
    "tags": [
     "hide-output"
    ]
   },
   "outputs": [],
   "source": [
    "import math_module\n",
    "print(math_module.__name__)"
   ]
  },
  {
   "cell_type": "markdown",
   "id": "7009ac9a",
   "metadata": {},
   "source": [
    "Here, you can see that if you import the module, the value of `__name__` is not equal to `\"__main__\"`.\n",
    "\n",
    "<video autoplay loop playsinline controls muted>\n",
    "    <source src=\"../_static/videos/modules_name.mp4\" type=\"video/mp4\">\n",
    "</video>\n",
    "\n",
    "### Possible `__name__` usage\n",
    "Sometimes, we need a Python file that contains reusable functionality, but we also want to include certain instructions that should only be executed when we run the file directly from the console. In this scenario, we can use the `__name__` variable's behavior to achieve this dual functionality.\n",
    "\n",
    "Let's take the example of a Python module named \"math_module.py.\" This module contains various functions and constants:\n",
    "\n",
    "```python\n",
    "def gcd(a, b):\n",
    "    if b == 0:\n",
    "        return a\n",
    "    return gcd(b, a % b)\n",
    "\n",
    "def absolute_value(a):\n",
    "    return a if a >= 0 else -a\n",
    "\n",
    "def factorial(a):\n",
    "    if a == 0:\n",
    "        return 1\n",
    "    return a * factorial(a - 1)\n",
    "\n",
    "e = 2.718281828459045090795598298427648842334747314453125\n",
    "pi = 3.141592653589793115997963468544185161590576171875\n",
    "\n",
    "a = 10\n",
    "b = 5\n",
    "print(gcd(a, b))\n",
    "```\n",
    "\n",
    "No matter whether we import or run this module from the console, it will always display the output as follows:\n",
    "\n",
    "```\n",
    "5\n",
    "```\n",
    "\n",
    "However, if we want to run only specific parts of the program when it's executed from the console, we can use the following syntax:\n",
    "\n",
    "```python\n",
    "def gcd(a, b):\n",
    "    if b == 0:\n",
    "        return a\n",
    "    return gcd(b, a % b)\n",
    "\n",
    "def absolute_value(a):\n",
    "    return a if a >= 0 else -a\n",
    "\n",
    "def factorial(a):\n",
    "    if a is 0:\n",
    "        return 1\n",
    "    return a * factorial(a - 1)\n",
    "\n",
    "e = 2.718281828459045090795598298427648842334747314453125\n",
    "pi = 3.141592653589793115997963468544185161590576171875\n",
    "\n",
    "if __name__ == \"__main__\":\n",
    "    a = 10\n",
    "    b = 5\n",
    "    print(gcd(a, b))\n",
    "```\n",
    "\n",
    "Now, when we import the module, we won't see any output. However, if we run the module directly from the console, it will execute the specified code:\n",
    "\n",
    "```\n",
    "5\n",
    "```\n",
    "\n",
    "This technique allows us to create modules that can be used both for their functions and, when necessary, for standalone execution, providing flexibility and reusability in our code.\n",
    "\n",
    "## Building our own package\n",
    "\n",
    "In this section, we will cover the basics of creating our own packages in Python. We will be using Poetry for package management. You can find instructions on how to install Poetry on your PC [here](https://python-poetry.org/docs/#installation).\n",
    "\n",
    "Let's create our own package. I will call it `package-demo`:\n",
    "```bash\n",
    "poetry new package_demo\n",
    "```\n",
    "After that we have the following folder structure:\n",
    "```bash\n",
    "❯ tree package_demo/\n",
    "package_demo/\n",
    "├── README.md\n",
    "├── package_demo\n",
    "│   └── __init__.py\n",
    "├── pyproject.toml\n",
    "└── tests\n",
    "    └── __init__.py\n",
    "\n",
    "2 directories, 4 files\n",
    "```\n",
    "\n",
    "Now let's add our `math_module` module into package. We need simply to create file `math_module.py` in `package_demo` folder.\n",
    "The structure of our package after that is following:\n",
    "```bash\n",
    "❯ tree package_demo/\n",
    "package_demo/\n",
    "├── README.md\n",
    "├── package_demo\n",
    "│   ├── __init__.py\n",
    "│   └── math_module.py\n",
    "├── poetry.lock\n",
    "├── pyproject.toml\n",
    "└── tests\n",
    "    └── __init__.py\n",
    "\n",
    "2 directories, 6 files\n",
    "```\n",
    "\n",
    "Here is the content of our `math_module.py` file:\n",
    "```python\n",
    "def gcd(a, b):\n",
    "    if b == 0:\n",
    "        return a\n",
    "    return gcd(b, a % b)\n",
    "\n",
    "def absolute_value(a):\n",
    "    return a if a >= 0 else -a\n",
    "\n",
    "def factorial(a):\n",
    "    if a is 0:\n",
    "        return 1\n",
    "    return a * factorial(a - 1)\n",
    "\n",
    "e = 2.718281828459045090795598298427648842334747314453125\n",
    "pi = 3.141592653589793115997963468544185161590576171875\n",
    "```\n",
    "\n",
    "Great! Now we just need to package it into a `tar.gz` file, and then we can install it using `pip` (Python package installer).\n",
    "To accomplish it let's execute the following command:\n",
    "```bash\n",
    "poetry build\n",
    "```\n",
    "\n",
    "Now, we can install our package:\n",
    "```bash\n",
    "pip install dist/package_demo-0.1.0.tar.gz \n",
    "```\n",
    "\n",
    "That's it! Simple, isn't it? However, this example only covers a very simple case. If you want to build a more complex package with different dependencies, please refer to the poetry documentation.\n",
    "\n",
    "Now, let's try to import it when we are not in the package's folder.\n",
    "\n",
    "\n",
    "\n",
    "\n",
    "## Builtin packages\n",
    "\n",
    "In this section we will briefly cover some of the builtin packages in Python, specifically:\n",
    "1. <a href=\"https://docs.python.org/3/library/decimal.html\" target=\"_blank\">`decimal`</a>\n",
    "2. <a href=\"https://docs.python.org/3/library/math.html\" target=\"_blank\">`math`</a>\n",
    "3. <a href=\"https://docs.python.org/3/library/os.html\" target=\"_blank\">`os`</a>\n",
    "4. <a href=\"https://docs.python.org/3/library/sys.html\" target=\"_blank\">`sys`</a>\n",
    "5. <a href=\"https://docs.python.org/3/library/itertools.html\" target=\"_blank\">`itertools`</a>\n",
    "6. <a href=\"https://docs.python.org/3/library/datetime.html\" target=\"_blank\">`datetime`</a>\n",
    "<!-- \n",
    "1. [`decimal`](https://docs.python.org/3/library/decimal.html)\n",
    "2. [`math`](https://docs.python.org/3/library/math.html)\n",
    "3. [`os`](https://docs.python.org/3/library/os.html)\n",
    "4. [`sys`](https://docs.python.org/3/library/sys.html)\n",
    "5. [`itertools`](https://docs.python.org/3/library/itertools.html)\n",
    "6. [`datetime`](https://docs.python.org/3/library/datetime.html)\n",
    " -->\n",
    "### `decimal`\n",
    "The decimal package in Python provides arbitrary-precision decimal arithmetic. It's particularly useful for applications where precision is critical, such as financial calculations, scientific research, and more. Here are some interesting examples of decimal package usage:"
   ]
  },
  {
   "cell_type": "code",
   "execution_count": null,
   "id": "d2fec80b",
   "metadata": {
    "tags": [
     "hide-output"
    ]
   },
   "outputs": [],
   "source": [
    "from decimal import Decimal\n",
    "\n",
    "# Perform precise arithmetic\n",
    "x = Decimal('0.1')\n",
    "result = x + x + x\n",
    "print(result)"
   ]
  },
  {
   "cell_type": "markdown",
   "id": "38162541",
   "metadata": {},
   "source": [
    "As you remember in case of float numbers we could not get the precise result:"
   ]
  },
  {
   "cell_type": "code",
   "execution_count": null,
   "id": "f1f072c8",
   "metadata": {
    "tags": [
     "hide-output"
    ]
   },
   "outputs": [],
   "source": [
    "print(0.1 + 0.1 + 0.1)"
   ]
  },
  {
   "cell_type": "markdown",
   "id": "bfa0ce8e",
   "metadata": {},
   "source": [
    "Let's also calculate compound interest:"
   ]
  },
  {
   "cell_type": "code",
   "execution_count": null,
   "id": "a42a850c",
   "metadata": {
    "tags": [
     "hide-output"
    ]
   },
   "outputs": [],
   "source": [
    "from decimal import Decimal\n",
    "\n",
    "deposit = Decimal('1_000_000')\n",
    "rate_per_year = Decimal('0.15')\n",
    "years = 20\n",
    "outcome = deposit * (1 + rate_per_year) ** years\n",
    "print(outcome)"
   ]
  },
  {
   "cell_type": "markdown",
   "id": "ae1d45d8",
   "metadata": {},
   "source": [
    "### `math`\n",
    "The Python math package is a built-in library that provides a wide range of mathematical functions for various calculations. Here are some interesting examples of math package usage:"
   ]
  },
  {
   "cell_type": "code",
   "execution_count": null,
   "id": "8b87fd15",
   "metadata": {
    "tags": [
     "hide-output"
    ]
   },
   "outputs": [],
   "source": [
    "import math\n",
    "\n",
    "# Basic math operations\n",
    "print(\"math.sqrt(25):\", math.sqrt(25))  # Square root\n",
    "print(\"math.pow(2, 3)\", math.pow(2, 3))  # Exponentiation\n",
    "print(\"math.sin(math.radians(30)):\", math.sin(math.radians(30)))  # Sine function (convert degrees to radians)"
   ]
  },
  {
   "cell_type": "markdown",
   "id": "2a2f0ed1",
   "metadata": {},
   "source": [
    "Trigonometric Calculations:"
   ]
  },
  {
   "cell_type": "code",
   "execution_count": null,
   "id": "d04bb5cf",
   "metadata": {
    "tags": [
     "hide-output"
    ]
   },
   "outputs": [],
   "source": [
    "# Trigonometric functions\n",
    "angle = math.radians(45)\n",
    "sine = math.sin(angle)\n",
    "cosine = math.cos(angle)\n",
    "tangent = math.tan(angle)\n",
    "print(sine, cosine, tangent)"
   ]
  },
  {
   "cell_type": "markdown",
   "id": "5e7ca6ad",
   "metadata": {},
   "source": [
    "Ceiling and Floor Functions:"
   ]
  },
  {
   "cell_type": "code",
   "execution_count": null,
   "id": "375a15f8",
   "metadata": {
    "tags": [
     "hide-output"
    ]
   },
   "outputs": [],
   "source": [
    "# Ceiling (smallest integer >= number) and Floor (largest integer <= number) functions\n",
    "result1 = math.ceil(4.3)  # Ceiling\n",
    "result2 = math.floor(4.7)  # Floor\n",
    "print(result1, result2)"
   ]
  },
  {
   "cell_type": "markdown",
   "id": "1d33de0e",
   "metadata": {},
   "source": [
    "### `os`\n",
    "The `os` package in Python provides a way to interact with the operating system, allowing you to perform tasks related to file and directory management, process management, and more. Here are some interesting examples of `os` package usage.\n",
    "\n",
    "File and directory operations:\n",
    "```python\n",
    "import os\n",
    "\n",
    "# List files and directories in a directory\n",
    "files = os.listdir('/path/to/directory')\n",
    "\n",
    "# Check if a file or directory exists\n",
    "exists = os.path.exists('/path/to/file_or_directory')\n",
    "\n",
    "# Create a new directory\n",
    "os.mkdir('/path/to/new_directory')\n",
    "\n",
    "# Rename a file or directory\n",
    "os.rename('/path/to/old_name', '/path/to/new_name')\n",
    "\n",
    "# Remove a file\n",
    "os.remove('/path/to/file')\n",
    "\n",
    "# Remove an empty directory\n",
    "os.rmdir('/path/to/empty_directory')\n",
    "\n",
    "# Remove a directory and its contents\n",
    "os.removedirs('/path/to/directory_and_contents')\n",
    "```\n",
    "Working with Paths:\n",
    "```python\n",
    "import os\n",
    "\n",
    "# Join paths to create a new path\n",
    "path = os.path.join('/path', 'to', 'file.txt')\n",
    "\n",
    "# Get the absolute path\n",
    "absolute_path = os.path.abspath('file.txt')\n",
    "\n",
    "# Extract the filename from a path\n",
    "filename = os.path.basename('/path/to/file.txt')\n",
    "\n",
    "# Extract the directory from a path\n",
    "directory = os.path.dirname('/path/to/file.txt')\n",
    "\n",
    "```\n",
    "\n",
    "### `sys`\n",
    "The sys module in Python provides functions and variables that allow you to interact with the Python runtime environment and system-specific parameters. Here is interesting example of sys module usage.\n",
    "\n",
    "Command-Line Arguments:\n",
    "```python\n",
    "import sys\n",
    "\n",
    "# Access command-line arguments\n",
    "script_name = sys.argv[0]\n",
    "arguments = sys.argv[1:]  # Get all command-line arguments after the script name\n",
    "print(f\"Script name: {script_name}\")\n",
    "print(f\"Command-line arguments: {arguments}\")\n",
    "```\n",
    "\n",
    "### `itertools`\n",
    "The itertools module in Python provides a collection of fast, memory-efficient tools for working with iterators and combinatorial functions. Here are some interesting examples of itertools package usage:\n",
    "\n",
    "You can generate permutations and combinations of elements using `itertools.permutations` and `itertools.combinations`:"
   ]
  },
  {
   "cell_type": "code",
   "execution_count": null,
   "id": "d7a8ba99",
   "metadata": {
    "tags": [
     "hide-output"
    ]
   },
   "outputs": [],
   "source": [
    "import itertools\n",
    "\n",
    "elements = [1, 2, 3]\n",
    "permutations = itertools.permutations(elements, 2)\n",
    "combinations = itertools.combinations(elements, 2)\n",
    "print(\"Permutations:\")\n",
    "for perm in permutations:\n",
    "    print(perm)  # Generates all permutations of 2 elements\n",
    "\n",
    "print(\"Combinations:\")\n",
    "for comb in combinations:\n",
    "    print(comb)  # Generates all combinations of 2 elements"
   ]
  },
  {
   "cell_type": "markdown",
   "id": "3013cf2c",
   "metadata": {},
   "source": [
    "Cartesian product of input iterables:"
   ]
  },
  {
   "cell_type": "code",
   "execution_count": null,
   "id": "3c1dfe6d",
   "metadata": {
    "tags": [
     "hide-output"
    ]
   },
   "outputs": [],
   "source": [
    "from itertools import product\n",
    "\n",
    "print(\"First product result:\")\n",
    "for elem in product('ABCD', 'xy'):\n",
    "    print(elem)\n",
    "\n",
    "print(\"Second product result:\")\n",
    "for elem in product(range(2), repeat=3):\n",
    "    print(elem)"
   ]
  },
  {
   "cell_type": "markdown",
   "id": "50074b3e",
   "metadata": {},
   "source": [
    "### `datetime`\n",
    "\n",
    "\n",
    "The datetime module in Python provides classes for working with dates and times. Here are some interesting examples of datetime package usage.\n",
    "\n",
    "Current Date and Time:"
   ]
  },
  {
   "cell_type": "code",
   "execution_count": null,
   "id": "b8e8b5db",
   "metadata": {
    "tags": [
     "hide-output"
    ]
   },
   "outputs": [],
   "source": [
    "from datetime import datetime\n",
    "\n",
    "# Get the current date and time\n",
    "current_datetime = datetime.now()\n",
    "print(current_datetime)"
   ]
  },
  {
   "cell_type": "markdown",
   "id": "30aea4dd",
   "metadata": {},
   "source": [
    "Formatting Dates and Times:"
   ]
  },
  {
   "cell_type": "code",
   "execution_count": null,
   "id": "f5668ca4",
   "metadata": {
    "tags": [
     "hide-output"
    ]
   },
   "outputs": [],
   "source": [
    "from datetime import datetime\n",
    "\n",
    "# Format a date as a string\n",
    "current_datetime = datetime.now()\n",
    "formatted_date = current_datetime.strftime(\"%Y-%m-%d %H:%M:%S\")\n",
    "print(formatted_date)"
   ]
  },
  {
   "cell_type": "markdown",
   "id": "edfc69c2",
   "metadata": {},
   "source": [
    "Parsing Date Strings:"
   ]
  },
  {
   "cell_type": "code",
   "execution_count": null,
   "id": "13dd96a1",
   "metadata": {
    "tags": [
     "hide-output"
    ]
   },
   "outputs": [],
   "source": [
    "from datetime import datetime\n",
    "\n",
    "# Parse a date string into a datetime object\n",
    "date_str = \"2023-11-06 15:30:00\"\n",
    "parsed_date = datetime.strptime(date_str, \"%Y-%m-%d %H:%M:%S\")\n",
    "print(parsed_date)"
   ]
  },
  {
   "cell_type": "markdown",
   "id": "7dfe9f6e",
   "metadata": {},
   "source": [
    "Date Arithmetic:"
   ]
  },
  {
   "cell_type": "code",
   "execution_count": null,
   "id": "4196e8ea",
   "metadata": {
    "tags": [
     "hide-output"
    ]
   },
   "outputs": [],
   "source": [
    "from datetime import datetime, timedelta\n",
    "\n",
    "# Perform date arithmetic\n",
    "current_date = datetime.now()\n",
    "one_week_ago = current_date - timedelta(weeks=1)\n",
    "print(one_week_ago)"
   ]
  },
  {
   "cell_type": "markdown",
   "id": "62573cbb",
   "metadata": {},
   "source": [
    "Date Comparisons:"
   ]
  },
  {
   "cell_type": "code",
   "execution_count": null,
   "id": "e15d4e0f",
   "metadata": {
    "tags": [
     "hide-output"
    ]
   },
   "outputs": [],
   "source": [
    "from datetime import datetime\n",
    "\n",
    "# Compare dates\n",
    "date1 = datetime(2023, 11, 6)\n",
    "date2 = datetime(2023, 11, 7)\n",
    "if date1 < date2:\n",
    "    print(\"date1 is earlier than date2\")"
   ]
  },
  {
   "cell_type": "markdown",
   "id": "1834efca",
   "metadata": {},
   "source": [
    "Calculating Time Differences:"
   ]
  },
  {
   "cell_type": "code",
   "execution_count": null,
   "id": "1640f96f",
   "metadata": {
    "tags": [
     "hide-output"
    ]
   },
   "outputs": [],
   "source": [
    "from datetime import datetime\n",
    "from dateutil.relativedelta import relativedelta\n",
    "\n",
    "# Calculate the difference between two dates\n",
    "date1 = datetime(2023, 11, 6)\n",
    "date2 = datetime(2024, 11, 6)\n",
    "difference = relativedelta(date2, date1)\n",
    "print(f\"Years: {difference.years}, Months: {difference.months}, Days: {difference.days}\")"
   ]
  },
  {
   "cell_type": "markdown",
   "id": "da3e52b9",
   "metadata": {},
   "source": [
    "## Third-party packages installation:\n",
    "To install third-party packages in Python, you can use a package manager like pip. pip is the most commonly used package manager for Python and makes it easy to download and install packages from the Python Package Index (PyPI) or other sources. Here's how you can install third-party packages.\n",
    "\n",
    "To install a third-party package, open a terminal or command prompt and use the pip install command, followed by the package name. For example (in your console):\n",
    "```bash\n",
    "pip install package-name\n",
    "```"
   ]
  }
 ],
 "metadata": {
  "jupytext": {
   "formats": "ipynb,md:myst"
  },
  "kernelspec": {
   "display_name": "Python 3 (ipykernel)",
   "language": "python",
   "name": "python3"
  },
  "language_info": {
   "codemirror_mode": {
    "name": "ipython",
    "version": 3
   },
   "file_extension": ".py",
   "mimetype": "text/x-python",
   "name": "python",
   "nbconvert_exporter": "python",
   "pygments_lexer": "ipython3",
   "version": "3.10.10"
  }
 },
 "nbformat": 4,
 "nbformat_minor": 5
}
