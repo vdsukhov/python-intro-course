{
 "cells": [
  {
   "cell_type": "markdown",
   "id": "8b5c0d5c",
   "metadata": {},
   "source": [
    "# From Math to Code: Python for Derivatives and Integrals\n",
    "\n",
    "In this episode, we'll focus on two fundamental concepts in calculus: derivatives and integrals. These concepts play a pivotal role in understanding how things change and accumulate in the real world. To make this journey even more engaging and accessible, we'll be harnessing the power of the Python programming language.\n",
    "\n",
    "## Derivatives\n",
    "\n",
    "### Line expression\n",
    "\n",
    "Before we dive into the Python implementation, let's establish a solid understanding of the two-point form of a line. The two-point form is a mathematical representation that helps us find the equation of a line when we know two distinct points it passes through. The formula for the two-point form is:\n",
    "\n",
    "$$\\frac{x - x_0}{x_1 - x_0} = \\frac{y - y_0}{y_1 - y_0},$$\n",
    "\n",
    "where $(x_1, y_1)$ and $(x_0, y_0)$ are coordinates of two given points. We can rewrite it in the following way:\n",
    "\n",
    "$$y = x \\cdot \\frac{y_1 - y_0}{x_1 - x_0} + y_0 - x_0 \\cdot \\frac{y_1 - y_0}{x_1 - x_0}.$$\n",
    "\n",
    "\n",
    "Now that we have a grasp of the mathematical foundation, let's leverage the simplicity and power of Python to implement the two-point form.\n",
    "In the beginnin let's just import all packages:"
   ]
  },
  {
   "cell_type": "code",
   "execution_count": null,
   "id": "5e5c0203-a4cc-4ffe-985b-915013001344",
   "metadata": {},
   "outputs": [],
   "source": [
    "import numpy as np\n",
    "import matplotlib.pyplot as plt\n",
    "\n",
    "from matplotlib import animation, rc\n",
    "from IPython.display import HTML"
   ]
  },
  {
   "cell_type": "code",
   "execution_count": null,
   "id": "69d11303",
   "metadata": {
    "tags": [
     "remove-cell"
    ]
   },
   "outputs": [],
   "source": [
    "from myst_nb import glue\n",
    "plt.rcParams['figure.dpi'] = 300\n",
    "plt.rcParams[\"animation.html\"] = \"html5\""
   ]
  },
  {
   "cell_type": "code",
   "execution_count": null,
   "id": "397bf049",
   "metadata": {
    "tags": [
     "remove-output"
    ]
   },
   "outputs": [],
   "source": [
    "def line(x, x0, y0, x1, y1):\n",
    "    slope = (y1 - y0) / (x1 - x0)\n",
    "    return x * slope + y0 - x0 * slope\n",
    "\n",
    "line_vec = np.vectorize(line)\n",
    "\n",
    "x0, y0 = 2, 3\n",
    "x1, y1 = 5, 8\n",
    "\n",
    "x_rng = np.linspace(0, 5, 100)\n",
    "\n",
    "fig = plt.figure(figsize = (3, 3))\n",
    "plt.plot(x_rng, line_vec(x_rng, x0, y0, x1, y1))\n",
    "plt.grid(True)"
   ]
  },
  {
   "cell_type": "code",
   "execution_count": null,
   "id": "c5ceccf7",
   "metadata": {
    "tags": [
     "remove-cell"
    ]
   },
   "outputs": [],
   "source": [
    "glue(\"line\", fig, display=False)"
   ]
  },
  {
   "cell_type": "markdown",
   "id": "a82f9d7c",
   "metadata": {},
   "source": [
    "```{glue:figure} line\n",
    ":height: 360px\n",
    "```\n",
    "\n",
    "Once you grasp the straightforward process of determining the line between two points, the concept of derivatives becomes an accessible extension. It's like unlocking a key principle in calculus that opens the door to a broader understanding.\n",
    "\n",
    "### Derivative\n",
    "\n",
    "I notice in life that people often use different ideas to make things simpler. In my view, the derivative does the same thing but in the world of calculus. Sometimes, we want to understand how a function behaves. But these functions can be really complicated. So, what we can do is look at them closely by using a simple straight line instead. It's like zooming in on a small part of the function to get a better understanding. This helps us deal with the complexity and see how the function acts in a specific area.\n",
    "\n",
    "\n",
    "You might wonder why we bother analyzing functions in the first place. Well, the reason is, we're often on the lookout for the smallest and biggest values that a function can have. These are called the minimum and maximum points. Understanding how a function behaves helps us pinpoint these important spots, which can be crucial in various fields.\n",
    "\n",
    "For instance, in *machine learning*, optimizing functions is fundamental for training models to make accurate predictions. Imagine fine-tuning the parameters of a neural network to minimize errors in predicting outcomes.\n",
    "\n",
    "Similarly, in *economics*, businesses aim to maximize profits or minimize costs by optimizing functions that represent various aspects of their operations. It's like finding the best strategy for financial success.\n",
    "\n",
    "\n",
    "I mentioned that we're aiming to estimate our function locally using a linear expression. Let's express that idea mathematically:\n",
    "\n",
    "$$ f(x_0 + \\Delta x) - f(x_0) \\approx \\alpha \\left( (x_0 + \\Delta x) - x_0 \\right) $$\n",
    "\n",
    "In this equation, $x_0$ represents the specific point around which we intend to approximate our function $f$, and $\\Delta x$ defines the extent of our approximation range. The expression $f(x_0 + \\Delta x) - f(x_0)$ captures the change in the function over this range, and we're approximating it by a linear term $\\alpha \\left( (x_0 + \\Delta x) - x_0 \\right)$. The constant $\\alpha$ helps scale and determine the slope of our linear approximation.\n",
    "\n",
    "If we label $f(x_0 + \\Delta x)$ as $y$ and $(x_0 + \\Delta x)$ as $x$, we end up with the same linear expression we discussed in the previous section.\n",
    "\n",
    "Now let's just put all of this in the form of code.\n",
    "In the beginning I will define function that I want to analyze:"
   ]
  },
  {
   "cell_type": "code",
   "execution_count": null,
   "id": "0b90a131",
   "metadata": {
    "tags": [
     "remove-output"
    ]
   },
   "outputs": [],
   "source": [
    "def f(arg):\n",
    "    return np.abs(arg) * np.sin(arg)\n",
    "\n",
    "f_vec = np.vectorize(f)\n",
    "\n",
    "x_rng = np.linspace(-1, 1, 101)\n",
    "y_orig = f_vec(x_rng)"
   ]
  },
  {
   "cell_type": "markdown",
   "id": "f37716d0",
   "metadata": {},
   "source": [
    "Let's plot our function:"
   ]
  },
  {
   "cell_type": "code",
   "execution_count": null,
   "id": "3846c7f0",
   "metadata": {
    "tags": [
     "remove-output"
    ]
   },
   "outputs": [],
   "source": [
    "fig = plt.figure(figsize = (4, 4))\n",
    "\n",
    "plt.plot(x_rng, y_orig)\n",
    "plt.grid(True)"
   ]
  },
  {
   "cell_type": "code",
   "execution_count": null,
   "id": "8c471afe",
   "metadata": {
    "tags": [
     "remove-cell"
    ]
   },
   "outputs": [],
   "source": [
    "glue(\"f\", fig, display=False)"
   ]
  },
  {
   "cell_type": "markdown",
   "id": "d817ebe9",
   "metadata": {},
   "source": [
    "```{glue:figure} f\n",
    ":height: 360px\n",
    "```\n",
    "\n",
    "Let's assign values to our variables: $x_0 = 0$, $\\Delta x = 1$. Now, let's examine what our approximation looks like:"
   ]
  },
  {
   "cell_type": "code",
   "execution_count": null,
   "id": "d044c5c9",
   "metadata": {
    "tags": [
     "remove-output"
    ]
   },
   "outputs": [],
   "source": [
    "fig, ax = plt.subplots(figsize = (4, 4))\n",
    "\n",
    "ax.set(xlim = (-1.5, 1.5), ylim = (-1, 1))\n",
    "\n",
    "x0 = 0\n",
    "deltax = 1\n",
    "\n",
    "alpha = (f(x0 + deltax) - f(x0)) / deltax\n",
    "y_approx = np.array([alpha * x for x in x_rng])\n",
    "\n",
    "line_approx = ax.plot(x_rng, y_approx, label=\"approximation\")\n",
    "ax.plot(x_rng, y_orig, label='f')\n",
    "points = ax.plot([x0, x0 + deltax], [f(x0), f(x0 + deltax)], \".\", label=r'$f(x_0) \\ f(x_0 + \\Delta x)$')\n",
    "\n",
    "leg = plt.legend(loc='upper left')\n",
    "plt.grid(True)"
   ]
  },
  {
   "cell_type": "code",
   "execution_count": null,
   "id": "b9976531",
   "metadata": {
    "tags": [
     "remove-cell"
    ]
   },
   "outputs": [],
   "source": [
    "glue(\"approx\", fig, display=False)"
   ]
  },
  {
   "cell_type": "markdown",
   "id": "87d6f5ba",
   "metadata": {},
   "source": [
    "```{glue:figure} approx\n",
    ":height: 360px\n",
    "```\n",
    "\n",
    "Alright, we have our initial approximation, but we can enhance it for our specific local point $x_0 = 0$ by attempting to reduce the value of $\\Delta x \\rightarrow 0$.\n",
    "To visualize this process, I'll utilize the `animation` module from the `matplotlib` package:"
   ]
  },
  {
   "cell_type": "code",
   "execution_count": null,
   "id": "8bbcc671",
   "metadata": {},
   "outputs": [],
   "source": [
    "def animate(i):\n",
    "    dx = 1 - 0.01 * i\n",
    "    alpha = (f(x0 + dx) - f(x0)) / dx\n",
    "    line_approx[0].set_ydata([alpha * x for x in x_rng])\n",
    "    points[0].set_xdata([x0, x0 + dx])\n",
    "    points[0].set_ydata([f(x0), f(x0 + dx)])"
   ]
  },
  {
   "cell_type": "code",
   "execution_count": null,
   "id": "d5956fbd",
   "metadata": {},
   "outputs": [],
   "source": [
    "anim = animation.FuncAnimation(fig, animate, interval = 100, frames = 100)"
   ]
  },
  {
   "cell_type": "code",
   "execution_count": null,
   "id": "bf248445",
   "metadata": {
    "tags": [
     "remove-cell"
    ]
   },
   "outputs": [],
   "source": [
    "glue(\"derivative\", anim, display=False)"
   ]
  },
  {
   "cell_type": "markdown",
   "id": "15778d10",
   "metadata": {},
   "source": [
    "```{glue:figure} derivative\n",
    ":figwidth: 460px\n",
    "```\n",
    "\n",
    "\n",
    "\n",
    "Great! Now, we know how to approximate our functions using derivatives. Essentially, the expression for a derivative can be represented as follows:\n",
    "\n",
    "$$f'(x_0) = \\lim\\limits_{\\Delta x \\rightarrow 0} \\frac{f\\left(x_0 + \\Delta x\\right) - f(x_0)}{\\Delta x} \\approx \\alpha$$\n",
    "\n",
    "At the end, let's carry out the same procedure, but this time, we'll keep $\\Delta x = 0.01$ constant and vary the value of $x_0$:"
   ]
  },
  {
   "cell_type": "code",
   "execution_count": null,
   "id": "229e99b8",
   "metadata": {
    "tags": [
     "remove-output"
    ]
   },
   "outputs": [],
   "source": [
    "fig, ax = plt.subplots(figsize = (4, 4))\n",
    "\n",
    "ax.set(xlim = (-10, 10), ylim = (-9, 9))\n",
    "\n",
    "dx_fixed = 0.01\n",
    "x0 = -9\n",
    "alpha = (f(x0 + dx_fixed) - f(x0)) / dx_fixed\n",
    "\n",
    "x_domain = np.linspace(-10, 10, 1001)\n",
    "\n",
    "y = [f(arg) for arg in x_domain]\n",
    "\n",
    "ax.plot(x_domain, y)\n",
    "ax.grid()\n",
    "\n",
    "line_approx = ax.plot(x_domain, [alpha * (x - x0) + f(x0) for x in x_domain])\n",
    "point = ax.plot([x0], [f(x0)], '.')"
   ]
  },
  {
   "cell_type": "code",
   "execution_count": null,
   "id": "be5bdbef",
   "metadata": {
    "tags": [
     "remove-cell"
    ]
   },
   "outputs": [],
   "source": [
    "glue(\"approx_large\", fig, display=False)"
   ]
  },
  {
   "cell_type": "markdown",
   "id": "10df64cb",
   "metadata": {},
   "source": [
    "```{glue:figure} approx_large\n",
    ":height: 360px\n",
    "```\n",
    "\n",
    "This our initial state and now let's animate it:"
   ]
  },
  {
   "cell_type": "code",
   "execution_count": null,
   "id": "b7212f8e",
   "metadata": {},
   "outputs": [],
   "source": [
    "def animate(i):\n",
    "    x0_loc = x0 + 0.1 * i\n",
    "    alpha = (f(x0_loc + dx_fixed) - f(x0_loc)) / dx_fixed\n",
    "    line_approx[0].set_ydata([alpha * (x - x0_loc) + f(x0_loc) for x in x_domain])\n",
    "    point[0].set_xdata([x0_loc])\n",
    "    point[0].set_ydata([f(x0_loc)])"
   ]
  },
  {
   "cell_type": "code",
   "execution_count": null,
   "id": "890b805a",
   "metadata": {},
   "outputs": [],
   "source": [
    "anim = animation.FuncAnimation(fig, animate, interval = 100, frames = 200)"
   ]
  },
  {
   "cell_type": "code",
   "execution_count": null,
   "id": "5497595b",
   "metadata": {
    "tags": [
     "remove-cell"
    ]
   },
   "outputs": [],
   "source": [
    "glue(\"sliding_derivative\", anim, display=False)"
   ]
  },
  {
   "cell_type": "markdown",
   "id": "b25966ff",
   "metadata": {},
   "source": [
    "```{glue:figure} sliding_derivative\n",
    ":figwidth: 460px\n",
    "```\n",
    "\n",
    "## Integrals\n",
    "\n",
    "### Definite Integral\n",
    "\n",
    "\n",
    "Now, let's transition to another vital concept in calculus: integrals. The underlying approach here is akin to what we've explored with derivatives. It involves breaking down a complex object into smaller, more manageable parts for a clearer description.\n",
    "\n",
    "In this episode, our focus is on understanding integrals by examining the area under the curve. Much like how derivatives provide insights into rates of change, integrals offer a powerful tool for quantifying accumulated quantities and exploring the total \"area\" covered by a function. So, let's embark on this journey to unravel the significance of integrals and discover their role in depicting the cumulative aspects of mathematical functions.\n",
    "\n",
    "I understand that delving into mathematical concepts may not be everyone's cup of tea. However, integrals play a crucial role across various scientific disciplines, acting as fundamental tools for sophisticated analysis.\n",
    "\n",
    "Consider statistics, for instance – an essential field for understanding data and making informed decisions. Integrals serve as indispensable tools in statistical analysis, helping us compute probabilities, model distributions, and extract valuable insights from data patterns. Removing integrals from the toolkit of statistics would leave us with a significant gap in our ability to comprehend and interpret complex datasets. So, let's explore the role of integrals in these scientific realms and appreciate the depth they bring to our understanding of the world.\n",
    "\n",
    "\n",
    "We will need some extra function from `matplotlib` package:"
   ]
  },
  {
   "cell_type": "code",
   "execution_count": null,
   "id": "0ececd53",
   "metadata": {},
   "outputs": [],
   "source": [
    "from matplotlib.patches import Rectangle, Polygon"
   ]
  },
  {
   "cell_type": "markdown",
   "id": "54e5026e",
   "metadata": {},
   "source": [
    "Let's start with calculation the integral (area under the curve) for some simple function:"
   ]
  },
  {
   "cell_type": "code",
   "execution_count": null,
   "id": "65268348",
   "metadata": {},
   "outputs": [],
   "source": [
    "def f(x):\n",
    "    return x ** 2"
   ]
  },
  {
   "cell_type": "markdown",
   "id": "a01e227a",
   "metadata": {},
   "source": [
    "The formal mathematical definition of an integral can be expressed as follows:\n",
    "\n",
    "$$ \\int\\limits_{a}^{b} f(x) dx = \\lim\\limits_{\\Delta x \\rightarrow 0} \\sum\\limits_{i = 0}^{n - 1} f(\\xi_i) \\Delta x_i,$$\n",
    "where $a = x_0 < x_1 < x_2 < \\ldots < x_n = b$, $\\Delta x_i = x_{i + 1} - x_i$ and $\\xi_i \\in \\left[x_i, x_{i + 1}\\right]$. From this point, the concept involves dividing the entire interval $[a, b]$ into numerous small pieces and approximating the original function by utilizing rectangles. In essence, we're breaking down a complex shape into simpler components, where each rectangle captures the behavior of the function over a specific section of the interval.\n",
    "\n",
    "\n",
    "Alright, let's proceed by dividing our interval $[a, b]$ into smaller pieces and visually represent the approximation using rectangles:"
   ]
  },
  {
   "cell_type": "code",
   "execution_count": null,
   "id": "ce5616e8",
   "metadata": {
    "tags": [
     "remove-output"
    ]
   },
   "outputs": [],
   "source": [
    "fig = plt.figure(figsize = (4, 4))\n",
    "\n",
    "ax = fig.add_subplot()\n",
    "a = -4\n",
    "b = 4\n",
    "\n",
    "ax.set_xlim(a, b)\n",
    "ax.set_ylim(0, a ** 2)\n",
    "\n",
    "x = np.linspace(a, b, 101)\n",
    "y = np.array([f(arg) for arg in x])\n",
    "\n",
    "ax.plot(x, y, label = \"f\")\n",
    "\n",
    "nrec = 5\n",
    "for i in range(nrec):\n",
    "    point = (a + (b - a) / nrec * i)\n",
    "    width = (b - a) / nrec\n",
    "    height = f(point)\n",
    "    ax.add_patch(Rectangle((point, 0), width, height, alpha = 0.5, ec = \"black\"))\n",
    "\n",
    "\n",
    "leg = plt.legend(loc='upper center')\n",
    "plt.grid(True)"
   ]
  },
  {
   "cell_type": "code",
   "execution_count": null,
   "id": "c62858a0",
   "metadata": {
    "tags": [
     "remove-cell"
    ]
   },
   "outputs": [],
   "source": [
    "glue(\"integral\", fig, display=False)"
   ]
  },
  {
   "cell_type": "markdown",
   "id": "2cb187a2",
   "metadata": {},
   "source": [
    "```{glue:figure} integral\n",
    ":height: 360px\n",
    "```\n",
    "\n",
    "Absolutely, at its core, this is what an integral is all about. Our next step involves calculating the area, and for rectangles (the reason we divided it this way), this process is straightforward. The key is to make those $\\Delta x_i$ values really small, approaching zero. Let's put this concept into action and animate the process concurrently:"
   ]
  },
  {
   "cell_type": "code",
   "execution_count": null,
   "id": "278f1fcf",
   "metadata": {},
   "outputs": [],
   "source": [
    "total_area = ax.text(0.3, 0.75, \"\", transform=ax.transAxes)\n",
    "\n",
    "def animate(rect_num):\n",
    "    [p.remove() for p in reversed(ax.patches)]\n",
    "    rect_num += 3\n",
    "    \n",
    "    area = 0\n",
    "    \n",
    "    for i in range(rect_num):\n",
    "        point = (a + (b - a) / rect_num * i)\n",
    "        width = (b - a) / rect_num\n",
    "        h = point ** 2\n",
    "        ax.add_patch(Rectangle((point, 0), width, h, alpha = 0.5, ec=\"black\"))\n",
    "        area += width * h\n",
    "    total_area.set_text(f\"approx area = {area:.3f}\")"
   ]
  },
  {
   "cell_type": "code",
   "execution_count": null,
   "id": "38ac262b",
   "metadata": {},
   "outputs": [],
   "source": [
    "anim = animation.FuncAnimation(fig, animate, interval = 100, frames = 100)"
   ]
  },
  {
   "cell_type": "code",
   "execution_count": null,
   "id": "6b45df61",
   "metadata": {
    "tags": [
     "remove-cell"
    ]
   },
   "outputs": [],
   "source": [
    "glue(\"x2_area\", anim, display=False)"
   ]
  },
  {
   "cell_type": "markdown",
   "id": "a54c3d9c",
   "metadata": {},
   "source": [
    "```{glue:figure} x2_area\n",
    ":figwidth: 460px\n",
    "```\n",
    "\n",
    "\n",
    "\n",
    "### Standard Normal Distribution\n",
    "\n",
    "\n",
    "In conclusion, let's delve into the intricacies of the standard normal distribution. To be more precise, we'll explore the reasoning behind the coefficient in its probability density function:\n",
    "\n",
    "$$p(x) = \\frac{e^{-\\frac{x^2}{2}}}{\\sqrt{2 \\cdot \\pi}} $$\n",
    "\n",
    "\n",
    "To check it, we'll calculate the integral for $e^{-\\frac{x^2}{2}}$. Let's define this function in Python and explore its properties:"
   ]
  },
  {
   "cell_type": "code",
   "execution_count": null,
   "id": "f75291c7",
   "metadata": {},
   "outputs": [],
   "source": [
    "def f(x):\n",
    "    return np.exp(- x**2 / 2)"
   ]
  },
  {
   "cell_type": "markdown",
   "id": "75c96f60",
   "metadata": {},
   "source": [
    "For the interval of interest, I'll employ $[a, b] = [-10, 10]$. Here, I'll admit to a slight trick, utilizing a characteristic of this function—namely, that the majority of its values are concentrated around 0. This allows us to explore the essential properties without the need for an extensive interval, making our analysis more efficient."
   ]
  },
  {
   "cell_type": "code",
   "execution_count": null,
   "id": "41f36ae5",
   "metadata": {
    "tags": [
     "remove-output"
    ]
   },
   "outputs": [],
   "source": [
    "fig = plt.figure(figsize = (4, 4))\n",
    "\n",
    "ax = fig.add_subplot()\n",
    "a = -10\n",
    "b = -a\n",
    "\n",
    "ax.set_xlim(a, b)\n",
    "ax.set_ylim(0, 1.25 * f(0))\n",
    "\n",
    "x = np.linspace(a, b, 1001)\n",
    "y = np.array([f(arg) for arg in x])\n",
    "\n",
    "ax.plot(x, y, 'm', label = \"snd\")\n",
    "\n",
    "nrec = 5\n",
    "for i in range(nrec):\n",
    "    point = (a + (b - a) / nrec * i)\n",
    "    width = (b - a) / nrec\n",
    "    height = f(point)\n",
    "    ax.add_patch(Rectangle((point, 0), width, height, alpha = 0.5, ec = \"black\"))\n",
    "\n",
    "\n",
    "leg = plt.legend(loc='upper right')\n",
    "plt.grid(True)"
   ]
  },
  {
   "cell_type": "code",
   "execution_count": null,
   "id": "d26332d6",
   "metadata": {
    "tags": [
     "remove-cell"
    ]
   },
   "outputs": [],
   "source": [
    "glue(\"snd\", fig, display=False)"
   ]
  },
  {
   "cell_type": "markdown",
   "id": "10bf18e0",
   "metadata": {},
   "source": [
    "```{glue:figure} snd\n",
    ":height: 360px\n",
    "```"
   ]
  },
  {
   "cell_type": "code",
   "execution_count": null,
   "id": "e52c0f26",
   "metadata": {},
   "outputs": [],
   "source": [
    "total_area = ax.text(0.01, 0.9, \"\", transform=ax.transAxes)\n",
    "\n",
    "def animate(rect_num):\n",
    "    [p.remove() for p in reversed(ax.patches)]\n",
    "    rect_num += 3\n",
    "    \n",
    "    area = 0\n",
    "    \n",
    "    for i in range(rect_num):\n",
    "        point = (a + (b - a) / rect_num * i)\n",
    "        width = (b - a) / rect_num\n",
    "        h = f(point + 0.5 * width)\n",
    "        ax.add_patch(Rectangle((point, 0), width, h, alpha = 0.5, ec=\"black\"))\n",
    "        area += width * h\n",
    "    total_area.set_text(f\"area = {area:.5f}\")"
   ]
  },
  {
   "cell_type": "code",
   "execution_count": null,
   "id": "818a7d18",
   "metadata": {
    "tags": [
     "remove-output"
    ]
   },
   "outputs": [],
   "source": [
    "anim = animation.FuncAnimation(fig, animate, interval = 100, frames = 100)"
   ]
  },
  {
   "cell_type": "code",
   "execution_count": null,
   "id": "41e7c1cb",
   "metadata": {
    "tags": [
     "remove-cell"
    ]
   },
   "outputs": [],
   "source": [
    "glue(\"snd_video\", anim, display=False)"
   ]
  },
  {
   "cell_type": "markdown",
   "id": "77cec4a2",
   "metadata": {},
   "source": [
    "```{glue:figure} snd_video\n",
    ":figwidth: 460px\n",
    "```\n",
    "\n",
    "<!-- ```{glue:} snd_video\n",
    ":width: 300px\n",
    "``` -->"
   ]
  }
 ],
 "metadata": {
  "jupytext": {
   "formats": "ipynb,md:myst"
  },
  "kernelspec": {
   "display_name": "Python 3 (ipykernel)",
   "language": "python",
   "name": "python3"
  },
  "language_info": {
   "codemirror_mode": {
    "name": "ipython",
    "version": 3
   },
   "file_extension": ".py",
   "mimetype": "text/x-python",
   "name": "python",
   "nbconvert_exporter": "python",
   "pygments_lexer": "ipython3",
   "version": "3.12.4"
  }
 },
 "nbformat": 4,
 "nbformat_minor": 5
}
