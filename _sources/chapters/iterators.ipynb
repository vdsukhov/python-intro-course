{
 "cells": [
  {
   "cell_type": "markdown",
   "id": "c42e7346",
   "metadata": {},
   "source": [
    "# Iterators\n",
    "\n",
    "Iterators are a fundamental concept, empowering you to traverse through elements in a sequence, one at a time. Whether you're dealing with lists, tuples, or custom objects, iterators offer a consistent and efficient way to access elements sequentially."
   ]
  },
  {
   "cell_type": "code",
   "execution_count": null,
   "id": "c2ee1010-e950-4e06-9f2a-dc6054a51c68",
   "metadata": {},
   "outputs": [],
   "source": []
  }
 ],
 "metadata": {
  "jupytext": {
   "formats": "ipynb,md:myst"
  },
  "kernelspec": {
   "display_name": "Python 3 (ipykernel)",
   "language": "python",
   "name": "python3"
  },
  "language_info": {
   "codemirror_mode": {
    "name": "ipython",
    "version": 3
   },
   "file_extension": ".py",
   "mimetype": "text/x-python",
   "name": "python",
   "nbconvert_exporter": "python",
   "pygments_lexer": "ipython3",
   "version": "3.12.4"
  }
 },
 "nbformat": 4,
 "nbformat_minor": 5
}
